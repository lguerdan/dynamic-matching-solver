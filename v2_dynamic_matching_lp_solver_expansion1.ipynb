{
 "cells": [
  {
   "cell_type": "code",
   "execution_count": 100,
   "metadata": {},
   "outputs": [],
   "source": [
    "from scipy.optimize import linprog\n",
    "import numpy as np\n",
    "import pickle\n",
    "import pandas as pd\n",
    "import matplotlib.pyplot as plt\n",
    "\n",
    "from gurobi import *"
   ]
  },
  {
   "cell_type": "markdown",
   "metadata": {},
   "source": [
    "### Define some utility functions"
   ]
  },
  {
   "cell_type": "code",
   "execution_count": 101,
   "metadata": {},
   "outputs": [],
   "source": [
    "def in_constraint(v):\n",
    "    if v[1]:\n",
    "        return True\n",
    "    else:\n",
    "        return False\n",
    "\n",
    "def print_tableau(matches):\n",
    "    for i in range(matches.shape[2]):\n",
    "        print(matches[:,:,i])\n",
    "        \n",
    "def validate_allocation(allocations):\n",
    "    agents_matched = allocations.sum(axis=2).sum(axis=0).sum()\n",
    "    print(\"{} out of {} agents matched\".format(agents_matched, J))\n",
    "    print(\"{} agents have self matched\".format(allocations[0,:,:].sum()))\n",
    "    print(\"Self-matched agents are: \", np.nonzero(allocs[0,:,:].sum(axis=1))[0])\n",
    "\n",
    "    assert agents_matched <= J, \"An agent has been matched more than once\"\n",
    "\n",
    "    for i in range(I):\n",
    "        for j in range(J):\n",
    "            for t in range(T):\n",
    "                maxit = min(T, t+d)\n",
    "                assert allocations[i,j,t:maxit].sum() <= c[i], \"A resource has been over allocated\"\n",
    "\n",
    "\n",
    "def create_tableau(I,J,T):\n",
    "    valid_matches = np.zeros((I,J,T), np.int)\n",
    "\n",
    "    #valid allocations based on arival time\n",
    "    for t in range(T):\n",
    "        valid_matches[:,max(0,t-d):min(t+1,J),t] = 1\n",
    "\n",
    "    #make weights uniform across time\n",
    "    pairing_weights = np.random.random(valid_matches.shape) \n",
    "    for t in range(1,pairing_weights.shape[2]):\n",
    "        pairing_weights[:,:,t] = pairing_weights[:,:,0]\n",
    "    \n",
    "    pairing_weights[0,:,:] = 1e-5\n",
    "    pairing_weights[valid_matches == 0] = -1\n",
    "\n",
    "    return valid_matches, pairing_weights\n",
    "\n",
    "def make_alpha_mapping(I,J,T,alphas,valid_matches):\n",
    "    constraints_d, _ = dual_constraint_matrix(valid_matches,pairing_weights,I,J,T)\n",
    "    constraints_d = constraints_d[:,:alphas.size]\n",
    "    alpha_map = np.zeros((*valid_matches.shape,constraints_d.shape[1]))\n",
    "\n",
    "    cix=0\n",
    "    for i in range(I):\n",
    "            for j in range(J):\n",
    "                for t in range(T):\n",
    "                    if valid_matches[i][j][t]:\n",
    "                        alpha_map[i,j,t,:] = constraints_d[cix,:]\n",
    "                        cix += 1\n",
    "    return alpha_map\n",
    "    "
   ]
  },
  {
   "cell_type": "markdown",
   "metadata": {},
   "source": [
    "To make the dual constraint matrix: \n",
    "- Create a constraint map to see which alphas/betas apply at a given location in the primal. Each valid location will correspond to a constraint in the dual, and the variables == 1 will be those in the `cmap[i][j][t]`"
   ]
  },
  {
   "cell_type": "code",
   "execution_count": 103,
   "metadata": {},
   "outputs": [],
   "source": [
    "def primal_constraint_matrix(valid_matches, I,J,T):\n",
    "\n",
    "    constraints = np.zeros((T*(I-1)+J+1,valid_matches.size))\n",
    "    \n",
    "    #make first constraint limiting self matches\n",
    "    constraint = valid_matches.copy()\n",
    "    constraint[1:,:,:] = 0\n",
    "    constraints[0,:] = constraint.reshape((1, constraint.shape[0] * constraint.shape[1] * constraint.shape[2]))\n",
    "    cix = 1\n",
    "    \n",
    "    #constraints limiting to one resource allocation in the time interval\n",
    "    for i in range(1,I):\n",
    "        for t in range(T):\n",
    "            constraint = np.zeros((I,J,T), np.int)\n",
    "            valid_mask = constraint.copy()\n",
    "            endix = min(t+k[i],T)\n",
    "            valid_mask[i,:,t:endix] = 1 \n",
    "            constraint[(valid_matches == 1) & (valid_mask == 1)] = 1\n",
    "            constraints[cix,:] = constraint.reshape((1, constraint.shape[0] * constraint.shape[1] * constraint.shape[2]))\n",
    "            cix += 1\n",
    "\n",
    "    #constraints limiting each agent to only match once            \n",
    "    for j in range(J):\n",
    "        constraint = np.zeros((I,J,T), np.int)\n",
    "        valid_mask = constraint.copy()\n",
    "        valid_mask[:,j,:] = 1\n",
    "\n",
    "        constraint[(valid_matches == 1) & (valid_mask ==1)] = 1\n",
    "        constraints[cix+j,:] = constraint.reshape((1, constraint.shape[0] * constraint.shape[1] * constraint.shape[2]))   \n",
    "    \n",
    "    return constraints\n",
    "\n",
    "\n",
    "def dual_constraint_matrix(valid_matches,pairing_weights,I,J,T):\n",
    "\n",
    "    constraint_map = np.zeros((I,J,T,T*(I-1)+J+1), np.int)\n",
    "    cix = 0\n",
    "    \n",
    "    #make first constraint limiting self matches\n",
    "    constraint = valid_matches.copy()\n",
    "    constraint[1:,:,:] = 0\n",
    "    constraint_map[:,:,:,cix] = constraint.copy()\n",
    "    cix = 1\n",
    "\n",
    "    #constraints limiting to one resource allocation in the time interval\n",
    "    for i in range(1,I):\n",
    "        for t in range(T):\n",
    "            constraint = np.zeros((I,J,T), np.int)\n",
    "            valid_mask = constraint.copy()\n",
    "            endix = min(t+k[i],T)\n",
    "            valid_mask[i,:,t:endix] = 1 \n",
    "            constraint[(valid_matches == 1) & (valid_mask == 1)] = 1\n",
    "\n",
    "            constraint_map[:,:,:,cix] = constraint.copy()\n",
    "            cix += 1\n",
    "\n",
    "    #constraints limiting each agent to only match once            \n",
    "    for j in range(J):\n",
    "        constraint = np.zeros((I,J,T), np.int)\n",
    "        valid_mask = constraint.copy()\n",
    "        valid_mask[:,j,:] = 1\n",
    "        constraint[(valid_matches == 1) & (valid_mask ==1)] = 1\n",
    "        constraint_map[:,:,:,cix] = constraint.copy()\n",
    "        cix += 1\n",
    "    \n",
    "    dual_constraint_matrix = np.zeros((valid_matches.sum(), constraint_map.shape[3]))\n",
    "    inequalities = np.zeros(valid_matches.sum())\n",
    "    \n",
    "\n",
    "    cix = 0\n",
    "    for i in range(I):\n",
    "        for j in range(J):\n",
    "            for t in range(T):\n",
    "                if valid_matches[i][j][t]:\n",
    "                    dual_constraint_matrix[cix,:] = constraint_map[i,j,t,:] \n",
    "                    inequalities[cix] = pairing_weights[i,j,t]\n",
    "                    cix += 1\n",
    "    \n",
    "    return dual_constraint_matrix, inequalities\n"
   ]
  },
  {
   "cell_type": "code",
   "execution_count": 227,
   "metadata": {},
   "outputs": [],
   "source": [
    "def constr_freq_map(map_length,I,J,T,c):\n",
    "    '''Map to frequency representation''' \n",
    "    freq_map = np.ones(map_length)  \n",
    "    for ix in range(map_length):\n",
    "        if ix == 0:\n",
    "            freq_map[ix] = J\n",
    "        elif ix <= T * (I-1): \n",
    "            freq_map[ix] = c[((ix-1) // T) + 1] \n",
    "        else:\n",
    "            break\n",
    "    return freq_map\n",
    "\n",
    "\n",
    "def primal_solutions(pairing_weights, I, J, T):\n",
    "    m = Model(\"dynamicmatch_primal\")\n",
    "    m.modelSense = GRB.MAXIMIZE\n",
    "    m.setParam( 'OutputFlag', False )\n",
    "\n",
    "    weights = pairing_weights.reshape(pairing_weights.shape[0] * pairing_weights.shape[1] * pairing_weights.shape[2])\n",
    "    constraints = primal_constraint_matrix(valid_matches, I,J,T)\n",
    "\n",
    "    keys = range(constraints.shape[1])\n",
    "    variables = m.addVars(keys,\n",
    "                    vtype=GRB.CONTINUOUS,\n",
    "                     obj=weights,\n",
    "                     name=\"primal\",\n",
    "                     lb=0)\n",
    "\n",
    "    inequalities = constr_freq_map(constraints.shape[0],I,J,T,c)\n",
    "    \n",
    "    for cix, constraint in enumerate(constraints):\n",
    "        m.addConstr(sum(variables[o]*c for o,c in filter(in_constraint, zip(variables,constraint))) <= inequalities[cix])\n",
    "\n",
    "    m.optimize()\n",
    "    m.write('primal_formulation.lp')\n",
    "    allocations = np.array([variables[var].X for var in variables]).reshape(pairing_weights.shape)\n",
    "    return m.objVal, allocations\n",
    "\n",
    "\n",
    "def dual_solutions(valid_matches, pairing_weights, I, J, T):\n",
    "    md = Model(\"dynamicmatch_dual\")\n",
    "    md.modelSense = GRB.MINIMIZE\n",
    "    md.setParam( 'OutputFlag', False )\n",
    "\n",
    "    constraints_d, inequalities = dual_constraint_matrix(valid_matches,pairing_weights,I,J,T)\n",
    "    dual_counts = constr_freq_map(constraints_d.shape[1],I,J,T,c)\n",
    "    \n",
    "    keys = range(constraints_d.shape[1])\n",
    "    variables = md.addVars(keys,\n",
    "                    vtype=GRB.CONTINUOUS,\n",
    "                    obj=dual_counts,\n",
    "                    name=\"dual\",\n",
    "                    lb=0)\n",
    "\n",
    "    for cix, constraint in enumerate(constraints_d):\n",
    "        md.addConstr(sum(variables[o]*c for o,c in filter(in_constraint, zip(variables,constraint))) >= inequalities[cix])\n",
    "\n",
    "    md.optimize()\n",
    "    duals = np.array([variables[var].X for var in variables])\n",
    "    betas = duals[duals.size - J:]\n",
    "    alphas = duals[:duals.size - J]\n",
    "    \n",
    "    md.write('dual_formulation.lp')\n",
    "    return md.objVal, alphas, betas\n"
   ]
  },
  {
   "cell_type": "markdown",
   "metadata": {},
   "source": [
    "### Define situation variables"
   ]
  },
  {
   "cell_type": "code",
   "execution_count": 247,
   "metadata": {},
   "outputs": [],
   "source": [
    "J = 60 # number of agents\n",
    "d = 4 # wait time for each agent\n",
    "\n",
    "I = 3 # number of resources\n",
    "# k = np.random.randint(14,19, size=(I)) # utilization time for resource i\n",
    "# c = np.random.randint(2,3, size=(I)) # number of copies for resource i\n",
    "k=np.array([17,20,9])\n",
    "c=np.array([1,2,4])\n",
    "\n",
    "c[0] = J\n",
    "k[0] = 1\n",
    "\n",
    "\n",
    "T = J+d # total time for matches to occur\n",
    "\n",
    "valid_matches, pairing_weights = create_tableau(I,J,T)"
   ]
  },
  {
   "cell_type": "code",
   "execution_count": 248,
   "metadata": {},
   "outputs": [],
   "source": [
    "# with open('weights.pickle', 'rb') as f:\n",
    "#     pairing_weights = pickle.load(f)"
   ]
  },
  {
   "cell_type": "code",
   "execution_count": 249,
   "metadata": {},
   "outputs": [
    {
     "name": "stdout",
     "output_type": "stream",
     "text": [
      "primal utility: 26.482717310996236\n",
      "dual utility: 26.48271731099623\n",
      "60.0 out of 60 agents matched\n",
      "24.0 agents have self matched\n",
      "Self-matched agents are:  [ 5  6  9 11 14 15 16 19 21 24 28 29 30 33 37 38 41 42 43 45 47 53 56 58]\n"
     ]
    }
   ],
   "source": [
    "objp, allocs = primal_solutions(pairing_weights, I, J, T)\n",
    "objd, alphas, betas = dual_solutions(valid_matches,pairing_weights, I, J, T)\n",
    "\n",
    "\n",
    "print(\"primal utility:\",objp)\n",
    "print(\"dual utility:\",objd)\n",
    "\n",
    "\n",
    "validate_allocation(allocs)\n",
    "\n"
   ]
  },
  {
   "cell_type": "code",
   "execution_count": 250,
   "metadata": {},
   "outputs": [
    {
     "data": {
      "text/plain": [
       "array([0.        , 0.63045913, 0.        , 0.        , 0.        ,\n",
       "       0.        , 0.        , 0.        , 0.        , 0.        ,\n",
       "       0.        , 0.        , 0.17281385, 0.16968715, 0.03758368,\n",
       "       0.        , 0.        , 0.        , 0.        , 0.        ,\n",
       "       0.        , 0.        , 0.        , 0.        , 0.45823441,\n",
       "       0.        , 0.        , 0.        , 0.        , 0.        ,\n",
       "       0.        , 0.        , 0.        , 0.        , 0.03758368,\n",
       "       0.        , 0.        , 0.        , 0.        , 0.        ,\n",
       "       0.        , 0.19739867, 0.        , 0.62696711, 0.        ,\n",
       "       0.        , 0.        , 0.        , 0.        , 0.0365815 ,\n",
       "       0.        , 0.        , 0.        , 0.        , 0.        ,\n",
       "       0.        , 0.        , 0.        , 0.        , 0.        ,\n",
       "       0.        , 0.        , 0.        , 0.        , 0.        ,\n",
       "       0.11907693, 0.06775515, 0.15295378, 0.        , 0.        ,\n",
       "       0.        , 0.03385671, 0.10239819, 0.        , 0.11907693,\n",
       "       0.06775515, 0.15295378, 0.        , 0.        , 0.        ,\n",
       "       0.03385671, 0.10239819, 0.        , 0.        , 0.06775515,\n",
       "       0.30380631, 0.        , 0.        , 0.00330498, 0.03385671,\n",
       "       0.10239819, 0.        , 0.        , 0.06775515, 0.30380631,\n",
       "       0.14643911, 0.        , 0.05497368, 0.03385671, 0.10239819,\n",
       "       0.        , 0.        , 0.06775515, 0.30380631, 0.14643911,\n",
       "       0.        , 0.05497368, 0.03385671, 0.10239819, 0.        ,\n",
       "       0.        , 0.32293284, 0.04862862, 0.14643911, 0.        ,\n",
       "       0.05497368, 0.03385671, 0.10239819, 0.        , 0.        ,\n",
       "       0.32293284, 0.        , 0.        , 0.        , 0.        ,\n",
       "       0.        , 0.        , 0.        , 0.        ])"
      ]
     },
     "execution_count": 250,
     "metadata": {},
     "output_type": "execute_result"
    }
   ],
   "source": [
    "alphas"
   ]
  },
  {
   "cell_type": "code",
   "execution_count": 238,
   "metadata": {},
   "outputs": [
    {
     "name": "stdout",
     "output_type": "stream",
     "text": [
      "primal utility: 26.628523423115432\n",
      "dual utility: 26.628523423115432\n",
      "35.0 out of 60 agents matched\n",
      "0.0 agents have self matched\n",
      "Self-matched agents are:  []\n"
     ]
    }
   ],
   "source": [
    "pairing_weights[pairing_weights == 1e-5] = 0\n",
    "\n",
    "objp, allocs = primal_solutions(pairing_weights, I, J, T)\n",
    "objd, alphas, betas = dual_solutions(valid_matches,pairing_weights, I, J, T)\n",
    "\n",
    "\n",
    "print(\"primal utility:\",objp)\n",
    "print(\"dual utility:\",objd)\n",
    "\n",
    "\n",
    "validate_allocation(allocs)\n"
   ]
  },
  {
   "cell_type": "code",
   "execution_count": 231,
   "metadata": {},
   "outputs": [
    {
     "data": {
      "text/plain": [
       "array([ 0,  4,  5, 10, 11, 12, 16, 18, 20, 23, 26, 28, 31, 32, 33, 34, 36,\n",
       "       41, 42, 45, 46, 47, 48, 51, 56])"
      ]
     },
     "execution_count": 231,
     "metadata": {},
     "output_type": "execute_result"
    }
   ],
   "source": [
    "bools = allocs.sum(axis=0).sum(axis=1) == 0 \n",
    "inx = np.array([i for i in range(bools.size)])\n",
    "\n",
    "inx[bools]"
   ]
  },
  {
   "cell_type": "code",
   "execution_count": 237,
   "metadata": {},
   "outputs": [
    {
     "data": {
      "text/plain": [
       "array([0.        , 0.        , 0.66220595, 0.        , 0.18993491,\n",
       "       0.        , 0.00244843, 0.        , 0.        , 0.        ,\n",
       "       0.        , 0.        , 0.        , 0.        , 0.        ,\n",
       "       0.        , 0.        , 0.        , 0.        , 0.        ,\n",
       "       0.        , 0.        , 0.66220595, 0.        , 0.18993491,\n",
       "       0.        , 0.        , 0.        , 0.        , 0.        ,\n",
       "       0.        , 0.        , 0.        , 0.        , 0.        ,\n",
       "       0.        , 0.        , 0.        , 0.        , 0.        ,\n",
       "       0.        , 0.        , 0.66220595, 0.        , 0.18993491,\n",
       "       0.        , 0.        , 0.        , 0.        , 0.        ,\n",
       "       0.07712727, 0.        , 0.        , 0.        , 0.        ,\n",
       "       0.        , 0.        , 0.        , 0.        , 0.        ,\n",
       "       0.        , 0.        , 0.        , 0.        , 0.        ,\n",
       "       0.65576334, 0.        , 0.        , 0.        , 0.        ,\n",
       "       0.        , 0.        , 0.        , 0.04983509, 0.65576334,\n",
       "       0.        , 0.08178497, 0.03821792, 0.        , 0.        ,\n",
       "       0.        , 0.        , 0.04983509, 0.55249052, 0.        ,\n",
       "       0.08178497, 0.21842791, 0.        , 0.        , 0.        ,\n",
       "       0.        , 0.04983509, 0.14206199, 0.        , 0.08178497,\n",
       "       0.2248486 , 0.15733707, 0.        , 0.        , 0.        ,\n",
       "       0.17310218, 0.14206199, 0.08178497, 0.        , 0.2248486 ,\n",
       "       0.15733707, 0.        , 0.        , 0.        , 0.        ,\n",
       "       0.14206199, 0.        , 0.        , 0.01147018, 0.15733707,\n",
       "       0.        , 0.        , 0.        , 0.        , 0.14206199,\n",
       "       0.        , 0.        , 0.        , 0.        , 0.        ,\n",
       "       0.        , 0.        , 0.        , 0.        ])"
      ]
     },
     "execution_count": 237,
     "metadata": {},
     "output_type": "execute_result"
    }
   ],
   "source": [
    "alphas"
   ]
  },
  {
   "cell_type": "code",
   "execution_count": null,
   "metadata": {},
   "outputs": [],
   "source": [
    "np.nonzero(allocs[0,:,:].sum(axis=1))[0]"
   ]
  },
  {
   "cell_type": "markdown",
   "metadata": {},
   "source": [
    "### Deterioration of utility as alphas / betas deteriorate"
   ]
  },
  {
   "cell_type": "code",
   "execution_count": 185,
   "metadata": {},
   "outputs": [
    {
     "data": {
      "text/plain": [
       "0.1"
      ]
     },
     "execution_count": 185,
     "metadata": {},
     "output_type": "execute_result"
    }
   ],
   "source": [
    "noise_multipliers = np.linspace(0,.1,50)\n",
    "noise_multipliers[49]"
   ]
  },
  {
   "cell_type": "code",
   "execution_count": 197,
   "metadata": {},
   "outputs": [],
   "source": [
    "def plot_performance_curve(epsilon,use_mag=False):\n",
    "\n",
    "    noise_multipliers = np.linspace(0,.5,50)\n",
    "    performance = []\n",
    "\n",
    "    for noise_mag in noise_multipliers:\n",
    "        alphas_tmp = alphas + np.random.uniform(low=-1.0*noise_mag, high=1.0*noise_mag, size=alphas.shape)\n",
    "        betas_tmp = betas + np.random.uniform(low=-1.0*noise_mag, high=1.0*noise_mag, size=betas.shape)\n",
    "        \n",
    "        if use_mag:\n",
    "            epsilon = noise_mag\n",
    "        \n",
    "        objo, _ = online_matching(I,J,T,alphas_tmp,betas_tmp,valid_matches,pairing_weights, epsilon)\n",
    "\n",
    "        performance.append(objo)\n",
    "    return np.array(performance)"
   ]
  },
  {
   "cell_type": "code",
   "execution_count": 244,
   "metadata": {},
   "outputs": [
    {
     "data": {
      "text/plain": [
       "[<matplotlib.lines.Line2D at 0x101dbba358>]"
      ]
     },
     "execution_count": 244,
     "metadata": {},
     "output_type": "execute_result"
    },
    {
     "data": {
      "image/png": "[encoded data removed]",
      "text/plain": [
       "<Figure size 432x288 with 1 Axes>"
      ]
     },
     "metadata": {
      "needs_background": "light"
     },
     "output_type": "display_data"
    }
   ],
   "source": [
    "r0 = plot_performance_curve(.14)\n",
    "plt.plot(r0)"
   ]
  },
  {
   "cell_type": "code",
   "execution_count": 188,
   "metadata": {},
   "outputs": [
    {
     "data": {
      "text/plain": [
       "[<matplotlib.lines.Line2D at 0x101b7bcb00>]"
      ]
     },
     "execution_count": 188,
     "metadata": {},
     "output_type": "execute_result"
    },
    {
     "data": {
      "image/png": "[encoded data removed]",
      "text/plain": [
       "<Figure size 432x288 with 1 Axes>"
      ]
     },
     "metadata": {
      "needs_background": "light"
     },
     "output_type": "display_data"
    }
   ],
   "source": [
    "r1 = plot_performance_curve(.13)\n",
    "plt.plot(r1)"
   ]
  },
  {
   "cell_type": "code",
   "execution_count": 250,
   "metadata": {},
   "outputs": [
    {
     "data": {
      "text/plain": [
       "[<matplotlib.lines.Line2D at 0x101e2b0c50>]"
      ]
     },
     "execution_count": 250,
     "metadata": {},
     "output_type": "execute_result"
    },
    {
     "data": {
      "image/png": "[encoded data removed]",
      "text/plain": [
       "<Figure size 432x288 with 1 Axes>"
      ]
     },
     "metadata": {
      "needs_background": "light"
     },
     "output_type": "display_data"
    }
   ],
   "source": [
    "r2 = plot_performance_curve(.001)\n",
    "plt.plot(r2)"
   ]
  },
  {
   "cell_type": "code",
   "execution_count": 248,
   "metadata": {},
   "outputs": [
    {
     "data": {
      "text/plain": [
       "[<matplotlib.lines.Line2D at 0x101dfa98d0>]"
      ]
     },
     "execution_count": 248,
     "metadata": {},
     "output_type": "execute_result"
    },
    {
     "data": {
      "image/png": "[encoded data removed]",
      "text/plain": [
       "<Figure size 432x288 with 1 Axes>"
      ]
     },
     "metadata": {
      "needs_background": "light"
     },
     "output_type": "display_data"
    }
   ],
   "source": [
    "r3 = plot_performance_curve(0,use_mag=True)\n",
    "plt.plot(r3)"
   ]
  },
  {
   "cell_type": "code",
   "execution_count": null,
   "metadata": {},
   "outputs": [],
   "source": []
  }
 ],
 "metadata": {
  "kernelspec": {
   "display_name": "Python 3",
   "language": "python",
   "name": "python3"
  },
  "language_info": {
   "codemirror_mode": {
    "name": "ipython",
    "version": 3
   },
   "file_extension": ".py",
   "mimetype": "text/x-python",
   "name": "python",
   "nbconvert_exporter": "python",
   "pygments_lexer": "ipython3",
   "version": "3.7.3"
  }
 },
 "nbformat": 4,
 "nbformat_minor": 2
}
