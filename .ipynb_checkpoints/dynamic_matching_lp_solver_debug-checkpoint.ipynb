{
 "cells": [
  {
   "cell_type": "code",
   "execution_count": 1,
   "metadata": {},
   "outputs": [],
   "source": [
    "from scipy.optimize import linprog\n",
    "import numpy as np\n",
    "import pickle"
   ]
  },
  {
   "cell_type": "markdown",
   "metadata": {},
   "source": [
    "### First define some utility pairings based on a scenario"
   ]
  },
  {
   "cell_type": "code",
   "execution_count": 7,
   "metadata": {},
   "outputs": [],
   "source": [
    "def generate_utility_pairings(I,T):\n",
    "    '''Create a dummy scenario statisfying valid weight properties'''\n",
    "    impatient = np.random.rand(T,I+1)\n",
    "    patient = np.random.rand(I,I+1)\n",
    "    \n",
    "    patient[:,0] = 0\n",
    "    #make a few paris non-compatible\n",
    "    pairing_weights = np.concatenate((impatient, patient), axis=0)\n",
    "    for i in range(I+T):\n",
    "        i,j = np.random.randint(0,I+T), np.random.randint(1,I+1)\n",
    "        pairing_weights[i,j] = 0\n",
    "    \n",
    "    #make patient-patient pairings symmetric\n",
    "    pairing_weights[T:,1:] = np.maximum(pairing_weights[T:,1:], pairing_weights[T:,1:].T)\n",
    "    pairing_weights[T:,1:][np.eye(I,dtype=bool)] = 0\n",
    "    \n",
    "    return pairing_weights"
   ]
  },
  {
   "cell_type": "code",
   "execution_count": 191,
   "metadata": {},
   "outputs": [],
   "source": [
    "T = 5 #impatient agents\n",
    "I = 5 #patient agents\n",
    "\n",
    "pairing_weights = generate_utility_pairings(I,T)"
   ]
  },
  {
   "cell_type": "markdown",
   "metadata": {},
   "source": [
    "### Now define several functions to convert our problem formulation to standard matrix form"
   ]
  },
  {
   "cell_type": "code",
   "execution_count": 3,
   "metadata": {},
   "outputs": [],
   "source": [
    "def make_primal_constraint_matrix(I, T, c_len, pairing_weights):\n",
    "    constraints = np.zeros((T+I, c_len))\n",
    "    \n",
    "    for a in range(0, T):\n",
    "        constraint = np.zeros(pairing_weights.shape)\n",
    "        constraint[a, :] = 1\n",
    "        constraints[a,:] = constraint.reshape(constraint.shape[0] * constraint.shape[1])\n",
    "    \n",
    "    for B in range(0, I):\n",
    "        constraint = np.zeros(pairing_weights.shape)\n",
    "        constraint[B+T, 1:] += 1\n",
    "        constraint[:, B+1] += 1\n",
    "        constraints[B+T,:] = constraint.reshape(constraint.shape[0] * constraint.shape[1])\n",
    "    \n",
    "    return constraints\n",
    "\n",
    "def make_dual_constraint_matrix(I, T, pairing_weights):\n",
    "    constraints = np.zeros(((I+1)*T+I*I, T+I))\n",
    "    inequalities = np.zeros(((I+1)*T+I*I,1))\n",
    "    cix = 0\n",
    "    \n",
    "    #impatient constraints\n",
    "    for t in range(T):    \n",
    "        bixs = [i for i in range(T,T+I)]\n",
    "        bixs.insert(0,t)\n",
    "        \n",
    "        for ix, i in enumerate(bixs): \n",
    "            constraints[cix, t] = -1\n",
    "            constraints[cix,i] = -1\n",
    "            inequalities[cix] = -1 * pairing_weights[t, ix]\n",
    "            cix += 1\n",
    "            \n",
    "    #patient constraints\n",
    "    for i in range(I):    \n",
    "        for j in range(I):\n",
    "            constraints[cix, T+i] -= 1\n",
    "            constraints[cix, T+j] -= 1\n",
    "            inequalities[cix] = -1 * pairing_weights[T+i, j+1]\n",
    "            cix += 1\n",
    "\n",
    "    return constraints, inequalities"
   ]
  },
  {
   "cell_type": "markdown",
   "metadata": {},
   "source": [
    "### Find optimal pairings & utility based on the primal. Find optimal coefficients & utility based on the dual"
   ]
  },
  {
   "cell_type": "code",
   "execution_count": 21,
   "metadata": {},
   "outputs": [],
   "source": [
    "def calculate_primal_solns(pairing_weights, I, T):\n",
    "\n",
    "    c = -1 * pairing_weights.reshape(pairing_weights.shape[0] * pairing_weights.shape[1])\n",
    "    constraints = make_primal_constraint_matrix(I, T, len(c), pairing_weights)\n",
    "    b = np.ones((constraints.shape[0],1))\n",
    "\n",
    "    solved_program = linprog(c, constraints, b, options=dict(tol=1e-11))\n",
    "    pairings = solved_program.x.reshape(pairing_weights.shape)\n",
    "    utility_p = -1 * solved_program.fun\n",
    "    \n",
    "#     print(solved_program)\n",
    "    \n",
    "    return utility_p, pairings\n",
    "\n",
    "def calculate_dual_solns(pairing_weights, I, T):\n",
    "\n",
    "    constraints_d, inequalities_d = make_dual_constraint_matrix(I, T, pairing_weights)\n",
    "    c_d = np.ones((T+I))\n",
    "\n",
    "    solved_program = linprog(c_d, constraints_d, inequalities_d, options=dict(tol=1e-11))\n",
    "#     print(solved_program)\n",
    "    coefficients = solved_program.x\n",
    "    utility_d = solved_program.fun\n",
    "    \n",
    "    return utility_d, coefficients"
   ]
  },
  {
   "cell_type": "markdown",
   "metadata": {},
   "source": [
    "### Assert utility found in primal & dual are equivalent (to precision error)"
   ]
  },
  {
   "cell_type": "code",
   "execution_count": 120,
   "metadata": {},
   "outputs": [
    {
     "name": "stdout",
     "output_type": "stream",
     "text": [
      "3.6661626050868605\n",
      "3.6661626050868605\n"
     ]
    }
   ],
   "source": [
    "utility_p, _ = calculate_primal_solns(pairing_weights, I, T)\n",
    "utility_d, _ = calculate_dual_solns(pairing_weights, I, T)\n",
    "\n",
    "print(utility_d)\n",
    "print(utility_p)\n",
    "\n",
    "assert round(utility_d, 10) == round(utility_p, 10), \"Dual and Primal solutions are not equivilant\""
   ]
  },
  {
   "cell_type": "markdown",
   "metadata": {},
   "source": [
    "# Testing\n",
    "- Iterate over different patient/impatient scenarios and validate primal & dual produce same utility"
   ]
  },
  {
   "cell_type": "code",
   "execution_count": 121,
   "metadata": {},
   "outputs": [],
   "source": [
    "for R in range(1,10):\n",
    "    for S in range(1,10):\n",
    "        pairing_weights = generate_utility_pairings(R,S)\n",
    "        utility_1, _ = calculate_primal_solns(pairing_weights, R, S)\n",
    "        utility_2, _ = calculate_dual_solns(pairing_weights, R, S)\n",
    "        assert round(utility_1, 10) == round(utility_2, 10), \"Dual and Primal solutions are not equivilant\""
   ]
  },
  {
   "cell_type": "markdown",
   "metadata": {},
   "source": [
    "### Implement online assignment algorithm and check solution"
   ]
  },
  {
   "cell_type": "code",
   "execution_count": 98,
   "metadata": {},
   "outputs": [],
   "source": [
    "def check_opt_io(shaddow_pairings, j, weights, betas):\n",
    "    for ix,x in enumerate(shaddow_pairings):\n",
    "        for iy,y in enumerate(shaddow_pairings):\n",
    "            if x==y and x != 0 and x != -1:\n",
    "                \n",
    "                print(weights[ix] - betas[j] - betas[ix] == 0)\n",
    "                print(weights[iy] - betas[j] - betas[iy] ==0)\n",
    "                return\n",
    "\n",
    "def online_dual_assignment(betas, pairing_weights, I, T):\n",
    "    betas = np.insert(betas, 0,0)\n",
    "    II = [i for i in range(I+1)]\n",
    "    II_membership = np.ones((I+1), np.bool)\n",
    "    matches = []\n",
    "    \n",
    "    for t in range(0,T):\n",
    "        shaddow_pairings = pairing_weights[t, :] - betas\n",
    "        shaddow_pairings[~II_membership] = -1\n",
    "        io = np.argmax(shaddow_pairings)\n",
    "#         if t == 2:\n",
    "#             print(shaddow_pairings)\n",
    "#             print(matches)\n",
    "#             print(II_membership)\n",
    "        if io == 0:\n",
    "            matches.append((t,0))\n",
    "        else:\n",
    "            matches.append((t, io))\n",
    "            II_membership[io] = 0\n",
    "            \n",
    "    for j in range(1,I+1):\n",
    "        print('Index: ', T+j-1)\n",
    "        print('J: ', j)\n",
    "        print(II_membership)\n",
    "        #recently added -1 index. Carefully walk through to verify correct\n",
    "        if II_membership[j-1]:\n",
    "            II_membership_tmp = II_membership.copy()\n",
    "            II_membership_tmp[j-1] = 0\n",
    "            print(pairing_weights)\n",
    "\n",
    "            print('Weights:')\n",
    "            print(pairing_weights[T+j-1, :])\n",
    "#             print('Betas')\n",
    "#             print(betas)\n",
    "\n",
    "            shaddow_pairings = pairing_weights[T+j-1, :] - betas\n",
    "            shaddow_pairings[~II_membership_tmp] = -1\n",
    "            print('Weights - betas')\n",
    "            print(shaddow_pairings)\n",
    "            \n",
    "            \n",
    "            check_opt_io(shaddow_pairings, j, pairing_weights[T+j-1, :], betas)\n",
    "            io = np.argmax(shaddow_pairings)\n",
    "\n",
    "            if io != 0:\n",
    "                matches.append((T+j-1, io))\n",
    "                II_membership[io] = 0\n",
    "            print('+++++++++')\n",
    "         \n",
    "    pairings = np.zeros(pairing_weights.shape)\n",
    "    utility = 0\n",
    "    for match in matches:\n",
    "        pairings[match[0], match[1]] = 1\n",
    "        utility += pairing_weights[match[0], match[1]]\n",
    "                \n",
    "    return utility, pairings\n",
    "    "
   ]
  },
  {
   "cell_type": "code",
   "execution_count": 101,
   "metadata": {},
   "outputs": [],
   "source": [
    "T = 4 #impatient agents\n",
    "I = 4 #patient agents\n",
    "\n",
    "\n",
    "# pickleFile = open(\"debuginstance2.txt\", 'wb')\n",
    "# pickle.dump(pairing_weights, pickleFile)\n",
    "# pickleFile.close()\n",
    "\n",
    "# pickleFile = open(\"debuginstance2.txt\", 'rb')\n",
    "# pickle.write(pickleFile, pairing_weights)\n",
    "\n",
    "pairing_weights = generate_utility_pairings(I,T)"
   ]
  },
  {
   "cell_type": "code",
   "execution_count": 81,
   "metadata": {},
   "outputs": [
    {
     "data": {
      "text/plain": [
       "array([[0.7042036 , 0.06201134, 0.18783841, 0.87904628, 0.17920747],\n",
       "       [0.02106154, 0.99730342, 0.3402794 , 0.78420886, 0.        ],\n",
       "       [0.81110563, 0.60102404, 0.        , 0.16127142, 0.37948676],\n",
       "       [0.00509338, 0.        , 0.12046811, 0.80514355, 0.37716493],\n",
       "       [0.        , 0.        , 0.        , 0.26798454, 0.77234224],\n",
       "       [0.        , 0.        , 0.        , 0.37445721, 0.67586622],\n",
       "       [0.        , 0.26798454, 0.37445721, 0.        , 0.66750402],\n",
       "       [0.        , 0.77234224, 0.67586622, 0.66750402, 0.        ]])"
      ]
     },
     "execution_count": 81,
     "metadata": {},
     "output_type": "execute_result"
    }
   ],
   "source": [
    "pairing_weights"
   ]
  },
  {
   "cell_type": "code",
   "execution_count": 102,
   "metadata": {},
   "outputs": [
    {
     "name": "stdout",
     "output_type": "stream",
     "text": [
      "Index:  4\n",
      "J:  1\n",
      "[ True  True False  True  True]\n",
      "[[0.42670346 0.66743212 0.         0.02540482 0.52994287]\n",
      " [0.34014008 0.         0.78154605 0.51049536 0.        ]\n",
      " [0.15546209 0.52959146 0.46950067 0.5113193  0.        ]\n",
      " [0.90259212 0.         0.84167531 0.         0.07603772]\n",
      " [0.         0.         0.72491089 0.97144976 0.42717077]\n",
      " [0.         0.72491089 0.         0.75611977 0.32071576]\n",
      " [0.         0.97144976 0.75611977 0.         0.47585698]\n",
      " [0.         0.42717077 0.32071576 0.47585698 0.        ]]\n",
      "Weights:\n",
      "[0.         0.         0.72491089 0.97144976 0.42717077]\n",
      "Weights - betas\n",
      "[-1.         -0.52936858 -1.          0.52936858  0.32393135]\n",
      "False\n",
      "False\n",
      "+++++++++\n",
      "Index:  5\n",
      "J:  2\n",
      "[ True  True False False  True]\n",
      "[[0.42670346 0.66743212 0.         0.02540482 0.52994287]\n",
      " [0.34014008 0.         0.78154605 0.51049536 0.        ]\n",
      " [0.15546209 0.52959146 0.46950067 0.5113193  0.        ]\n",
      " [0.90259212 0.         0.84167531 0.         0.07603772]\n",
      " [0.         0.         0.72491089 0.97144976 0.42717077]\n",
      " [0.         0.72491089 0.         0.75611977 0.32071576]\n",
      " [0.         0.97144976 0.75611977 0.         0.47585698]\n",
      " [0.         0.42717077 0.32071576 0.47585698 0.        ]]\n",
      "Weights:\n",
      "[0.         0.72491089 0.         0.75611977 0.32071576]\n",
      "Weights - betas\n",
      "[ 0.         -1.         -1.         -1.          0.21747634]\n",
      "False\n",
      "False\n",
      "+++++++++\n",
      "Index:  6\n",
      "J:  3\n",
      "[ True  True False False False]\n",
      "Index:  7\n",
      "J:  4\n",
      "[ True  True False False False]\n",
      "Optimal allocations from primal\n",
      "[[0. 0. 0. 0. 1.]\n",
      " [0. 0. 1. 0. 0.]\n",
      " [1. 0. 0. 0. 0.]\n",
      " [1. 0. 0. 0. 0.]\n",
      " [0. 0. 0. 1. 0.]\n",
      " [0. 0. 0. 0. 0.]\n",
      " [0. 0. 0. 0. 0.]\n",
      " [0. 0. 0. 0. 0.]]\n",
      "Online allocations\n",
      "[[1. 0. 0. 0. 0.]\n",
      " [0. 0. 1. 0. 0.]\n",
      " [1. 0. 0. 0. 0.]\n",
      " [1. 0. 0. 0. 0.]\n",
      " [0. 0. 0. 1. 0.]\n",
      " [0. 0. 0. 0. 1.]\n",
      " [0. 0. 0. 0. 0.]\n",
      " [0. 0. 0. 0. 0.]]\n",
      "\n",
      "Base utility\n",
      "3.34099288605964\n",
      "3.34099288605964\n",
      "Online utility\n",
      "3.5584692309658177\n",
      "0.0\n"
     ]
    }
   ],
   "source": [
    "#Get knowlege of optimal Bis\n",
    "up, pairings_actual = calculate_primal_solns(pairing_weights, I, T)\n",
    "ud, coeffs = calculate_dual_solns(pairing_weights, I, T)\n",
    "\n",
    "utility, pairings_test = online_dual_assignment(coeffs[T:], pairing_weights, I, T)\n",
    "\n",
    "print('Optimal allocations from primal')\n",
    "print(pairings_actual)\n",
    "print('Online allocations')\n",
    "print(pairings_test)\n",
    "\n",
    "print('\\nBase utility')\n",
    "print(up)\n",
    "print(ud)\n",
    "print('Online utility')\n",
    "print(utility)\n",
    "\n",
    "print(up - ud)"
   ]
  }
 ],
 "metadata": {
  "kernelspec": {
   "display_name": "Python 3",
   "language": "python",
   "name": "python3"
  },
  "language_info": {
   "codemirror_mode": {
    "name": "ipython",
    "version": 3
   },
   "file_extension": ".py",
   "mimetype": "text/x-python",
   "name": "python",
   "nbconvert_exporter": "python",
   "pygments_lexer": "ipython3",
   "version": "3.7.2"
  }
 },
 "nbformat": 4,
 "nbformat_minor": 2
}
