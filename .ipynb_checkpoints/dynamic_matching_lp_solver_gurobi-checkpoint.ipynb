{
 "cells": [
  {
   "cell_type": "code",
   "execution_count": 311,
   "metadata": {},
   "outputs": [],
   "source": [
    "from scipy.optimize import linprog\n",
    "import numpy as np\n",
    "import pickle\n",
    "import pandas as pd\n",
    "import matplotlib.pyplot as plt\n",
    "\n",
    "from gurobi import *"
   ]
  },
  {
   "cell_type": "markdown",
   "metadata": {},
   "source": [
    "### Define some utility pairings based on a scenario"
   ]
  },
  {
   "cell_type": "code",
   "execution_count": 2,
   "metadata": {},
   "outputs": [],
   "source": [
    "def generate_utility_pairings(I,T):\n",
    "    '''Create a dummy scenario statisfying valid weight properties'''\n",
    "    impatient = np.random.rand(T,I+1) \n",
    "    patient = np.random.rand(I,I+1)\n",
    "    \n",
    "    patient[:,0] = -1\n",
    "    \n",
    "    #make a few paris non-compatible\n",
    "    pairing_weights = np.concatenate((impatient, patient), axis=0)\n",
    "    for i in range(I+T):\n",
    "        i,j = np.random.randint(0,I+T), np.random.randint(1,I+1)\n",
    "        pairing_weights[i,j] = -1\n",
    "    \n",
    "    #make patient-patient pairings symmetric\n",
    "    pairing_weights[T:,1:] = np.maximum(pairing_weights[T:,1:], pairing_weights[T:,1:].T)\n",
    "    pairing_weights[T:,1:][np.eye(I,dtype=bool)] = -1\n",
    "    \n",
    "    return pairing_weights"
   ]
  },
  {
   "cell_type": "markdown",
   "metadata": {},
   "source": [
    "### Now define several functions to convert our problem formulation to standard matrix form"
   ]
  },
  {
   "cell_type": "code",
   "execution_count": 3,
   "metadata": {},
   "outputs": [],
   "source": [
    "def make_primal_constraint_matrix(I, T, c_len, pairing_weights):\n",
    "    constraints = np.zeros((T+I, c_len))\n",
    "    \n",
    "    for a in range(0, T):\n",
    "        constraint = np.zeros(pairing_weights.shape)\n",
    "        constraint[a, :] = 1\n",
    "        constraints[a,:] = constraint.reshape(constraint.shape[0] * constraint.shape[1])\n",
    "    \n",
    "    for B in range(0, I):\n",
    "        constraint = np.zeros(pairing_weights.shape)\n",
    "        constraint[B+T, 1:] += 1\n",
    "        constraint[:, B+1] += 1\n",
    "        constraints[B+T,:] = constraint.reshape(constraint.shape[0] * constraint.shape[1])\n",
    "    \n",
    "    return constraints\n",
    "\n",
    "def make_dual_constraint_matrix(I, T, pairing_weights):\n",
    "    constraints = np.zeros(((I+1)*T+I*I, T+I))\n",
    "    inequalities = np.zeros(((I+1)*T+I*I,1))\n",
    "    cix = 0\n",
    "    \n",
    "    #impatient constraints\n",
    "    for t in range(T):    \n",
    "        bixs = [i for i in range(T,T+I)]\n",
    "        bixs.insert(0,t)\n",
    "        \n",
    "        for ix, i in enumerate(bixs): \n",
    "            constraints[cix, t] = -1\n",
    "            constraints[cix,i] = -1\n",
    "            inequalities[cix] = -1 * pairing_weights[t, ix]\n",
    "            cix += 1\n",
    "            \n",
    "    #patient constraints\n",
    "    for i in range(I):    \n",
    "        for j in range(I):\n",
    "            constraints[cix, T+i] -= 1\n",
    "            constraints[cix, T+j] -= 1\n",
    "            inequalities[cix] = -1 * pairing_weights[T+i, j+1]\n",
    "            cix += 1\n",
    "\n",
    "    return constraints, inequalities"
   ]
  },
  {
   "cell_type": "markdown",
   "metadata": {},
   "source": [
    "### Scipy solver from before"
   ]
  },
  {
   "cell_type": "code",
   "execution_count": 4,
   "metadata": {},
   "outputs": [],
   "source": [
    "def calculate_primal_solns_scipy(pairing_weights, I, T):\n",
    "\n",
    "    c = -1 * pairing_weights.reshape(pairing_weights.shape[0] * pairing_weights.shape[1])\n",
    "    constraints = make_primal_constraint_matrix(I, T, len(c), pairing_weights)\n",
    "    b = np.ones((constraints.shape[0],1))\n",
    "\n",
    "    solved_program = linprog(c, constraints, b)\n",
    "    pairings = solved_program.x.reshape(pairing_weights.shape)\n",
    "    utility_p = -1 * solved_program.fun\n",
    "    \n",
    "    return utility_p, pairings\n",
    "\n",
    "def calculate_dual_solns_scipy(pairing_weights, I, T):\n",
    "\n",
    "    constraints_d, inequalities_d = make_dual_constraint_matrix(I, T, pairing_weights)\n",
    "    c_d = np.ones((T+I))\n",
    "\n",
    "    solved_program = linprog(c_d, constraints_d, inequalities_d)\n",
    "    coefficients = solved_program.x\n",
    "    utility_d = solved_program.fun\n",
    "    \n",
    "    if solved_program.success == False:\n",
    "        print(solved_program.message)\n",
    "    \n",
    "    return utility_d, coefficients"
   ]
  },
  {
   "cell_type": "markdown",
   "metadata": {},
   "source": [
    "### Find optimal pairings & utility based on the primal. Find optimal coefficients & utility based on the dual"
   ]
  },
  {
   "cell_type": "code",
   "execution_count": 60,
   "metadata": {},
   "outputs": [],
   "source": [
    "def in_constraint(v):\n",
    "    if v[1]:\n",
    "        return True\n",
    "    else:\n",
    "        return False\n",
    "\n",
    "def calculate_primal_solns_gurobi(pairing_weights, I, T):\n",
    "    m = Model(\"dynamicmatch_primal\")\n",
    "    m.modelSense = GRB.MAXIMIZE\n",
    "    m.setParam( 'OutputFlag', False )\n",
    "\n",
    "    weights = pairing_weights.reshape(pairing_weights.shape[0] * pairing_weights.shape[1])\n",
    "    c = -1 * pairing_weights.reshape(pairing_weights.shape[0] * pairing_weights.shape[1])\n",
    "    constraints = make_primal_constraint_matrix(I, T, len(weights), pairing_weights)\n",
    "\n",
    "\n",
    "    keys = range(constraints.shape[1])\n",
    "    variables = m.addVars(keys,\n",
    "                    vtype=GRB.CONTINUOUS,\n",
    "                     obj=weights,\n",
    "                     name=\"primal\",\n",
    "                     lb=0)\n",
    "\n",
    "    for constraint in constraints:\n",
    "        m.addConstr(sum(variables[o]*c for o,c in filter(in_constraint, zip(variables,constraint))) <= 1)\n",
    "    \n",
    "\n",
    "    m.optimize()\n",
    "    allocations = np.array([variables[var].X for var in variables]).reshape(pairing_weights.shape)\n",
    "    m.write('constraint.lp')\n",
    "\n",
    "    return m.objVal, allocations\n",
    "\n",
    "def calculate_dual_solns_gurobi(pairing_weights, I, T):\n",
    "\n",
    "    md = Model(\"dynamicmatch_dual\")\n",
    "    md.modelSense = GRB.MINIMIZE\n",
    "    md.setParam( 'OutputFlag', False )\n",
    "    \n",
    "    md.setParam( 'OutputFlag', False )\n",
    "    constraints_d, inequalities_d = make_dual_constraint_matrix(I, T, pairing_weights)\n",
    "    c_d = np.ones((T+I))\n",
    "\n",
    "    keys = range(constraints_d.shape[1])\n",
    "    variables = md.addVars(keys,\n",
    "                    vtype=GRB.CONTINUOUS,\n",
    "                    obj=c_d,\n",
    "                    name=\"dual\",\n",
    "                    lb=0)\n",
    "\n",
    "    for cix, constraint in enumerate(constraints_d):\n",
    "        md.addConstr(sum(variables[o]*c for o,c in filter(in_constraint, zip(variables,constraint))) <= inequalities_d[cix])\n",
    "\n",
    "    md.optimize()\n",
    "\n",
    "    betas = np.array([variables[var].X for var in variables][T:])\n",
    "    betas = np.insert(betas, 0, 0)\n",
    "    alphas = np.array([variables[var].X for var in variables][:T])\n",
    "    return md.objVal, alphas, betas"
   ]
  },
  {
   "cell_type": "markdown",
   "metadata": {},
   "source": [
    "# Implement online assignment algorithm"
   ]
  },
  {
   "cell_type": "code",
   "execution_count": 347,
   "metadata": {},
   "outputs": [],
   "source": [
    "def check_opt_io(shaddow_pairings, aix, weights, dualvars, pairing, verbose=True):\n",
    "    for ix,x in enumerate(shaddow_pairings):\n",
    "        for iy,y in enumerate(shaddow_pairings):\n",
    "            \n",
    "            if round(x, 5)==round(y,5) and ix!=iy and x != -1 and y != -1 and not (ix==aix and iy==aix):\n",
    "                if verbose:\n",
    "                    if pairing == 'patient':\n",
    "                        print('Tie matching patient agent {} vs {} with impatient agent {}'.format(ix,iy,aix))\n",
    "                    else:\n",
    "                        print('Tie matching patient agent {} vs {} with patient agent {}'.format(ix,iy,aix))\n",
    "\n",
    "                    print('Assert zero errors for both assignments')\n",
    "                    print('Assignment 1 error: = {}'.format(weights[ix] - dualvars[aix] - betas[ix]))\n",
    "                    print('Assignment 2 error: = {}'.format(weights[iy] - dualvars[aix] - betas[iy]))\n",
    "                \n",
    "                return True\n",
    "\n",
    "\n",
    "#Note that alphas are only being used for looking at the ties, not in allocations\n",
    "def online_dual_assignment(alphas, betas, pairing_weights, I, T):\n",
    "    II = [i for i in range(I+1)]\n",
    "    II_membership = np.ones((I+1), np.bool)\n",
    "    matches = []\n",
    "    ties = 0\n",
    "    \n",
    "    for t in range(0,T):\n",
    "        shaddow_pairings = pairing_weights[t, :] - betas\n",
    "        shaddow_pairings[~II_membership] = -1\n",
    "        \n",
    "        io = np.argmax(shaddow_pairings)\n",
    "        if check_opt_io(shaddow_pairings, t,  pairing_weights[t, :], alphas, 'patient',False):\n",
    "            ties += 1\n",
    "        \n",
    "        if io == 0:\n",
    "            matches.append((t,0))\n",
    "        else:\n",
    "            matches.append((t, io))\n",
    "            II_membership[io] = 0\n",
    "\n",
    "\n",
    "    for j in range(1,I+1):  \n",
    "        if II_membership[j]:\n",
    "\n",
    "            shaddow_pairings = pairing_weights[T+j-1, :] - betas\n",
    "            shaddow_pairings[~II_membership] = -1\n",
    "            shaddow_pairings[j] = -1\n",
    "            \n",
    "            io = np.argmax(shaddow_pairings)    \n",
    "            if check_opt_io(shaddow_pairings, j-1,  pairing_weights[T+j-1, :], betas, 'impatient',False):\n",
    "                ties += 1\n",
    "            \n",
    "            if io != 0:\n",
    "                matches.append((T+j-1, io))\n",
    "                II_membership[io] = 0\n",
    "                II_membership[j] = 0\n",
    "\n",
    "         \n",
    "    pairings = np.zeros(pairing_weights.shape)\n",
    "    utility = 0\n",
    "    for match in matches:\n",
    "        pairings[match[0], match[1]] = 1\n",
    "        utility += pairing_weights[match[0], match[1]]\n",
    "                \n",
    "    return utility, pairings, ties\n",
    "    "
   ]
  },
  {
   "cell_type": "markdown",
   "metadata": {},
   "source": [
    "# Running the solvers"
   ]
  },
  {
   "cell_type": "code",
   "execution_count": 349,
   "metadata": {},
   "outputs": [],
   "source": [
    "T = 2 #impatient agents\n",
    "I = 2 #patient agents\n",
    "\n",
    "pairing_weights = generate_utility_pairings(I,T)"
   ]
  },
  {
   "cell_type": "markdown",
   "metadata": {},
   "source": [
    "### Gurobi solver"
   ]
  },
  {
   "cell_type": "markdown",
   "metadata": {},
   "source": [
    "Need to verify the pairing format being returned from gurobi solver. Sometimes inconsistent"
   ]
  },
  {
   "cell_type": "code",
   "execution_count": 350,
   "metadata": {},
   "outputs": [
    {
     "name": "stdout",
     "output_type": "stream",
     "text": [
      "1.0799662478428227\n",
      "1.0799662478428227\n",
      "[[1. 0. 0.]\n",
      " [0. 1. 0.]\n",
      " [0. 0. 0.]\n",
      " [0. 0. 0.]]\n"
     ]
    }
   ],
   "source": [
    "upg, pairingg = calculate_primal_solns_gurobi(pairing_weights, I, T)\n",
    "udg, alphas, betas = calculate_dual_solns_gurobi(pairing_weights, I, T)\n",
    "\n",
    "print(udg)\n",
    "print(upg)\n",
    "\n",
    "print(pairingg)"
   ]
  },
  {
   "cell_type": "markdown",
   "metadata": {},
   "source": [
    "### Online solver"
   ]
  },
  {
   "cell_type": "code",
   "execution_count": 351,
   "metadata": {},
   "outputs": [
    {
     "name": "stdout",
     "output_type": "stream",
     "text": [
      "utility: 1.0799662478428227\n",
      "[[1. 0. 0.]\n",
      " [0. 1. 0.]\n",
      " [0. 0. 0.]\n",
      " [0. 0. 0.]]\n"
     ]
    }
   ],
   "source": [
    "uo, pairings_test,_ = online_dual_assignment(alphas, betas, pairing_weights, I, T)\n",
    "\n",
    "print('utility:', uo)\n",
    "print(pairings_test)"
   ]
  },
  {
   "cell_type": "markdown",
   "metadata": {},
   "source": [
    "### Scipy solver"
   ]
  },
  {
   "cell_type": "code",
   "execution_count": 352,
   "metadata": {},
   "outputs": [
    {
     "name": "stdout",
     "output_type": "stream",
     "text": [
      "1.0799662478428227\n",
      "1.0799662478428227\n",
      "[[1. 0. 0.]\n",
      " [0. 1. 0.]\n",
      " [0. 0. 0.]\n",
      " [0. 0. 0.]]\n"
     ]
    }
   ],
   "source": [
    "utility_p, pairings = calculate_primal_solns_scipy(pairing_weights, I, T)\n",
    "utility_d, coeffs = calculate_dual_solns_scipy(pairing_weights, I, T)\n",
    "print(utility_d)\n",
    "print(utility_p)\n",
    "print(pairings)"
   ]
  },
  {
   "cell_type": "markdown",
   "metadata": {},
   "source": [
    "# Testing\n",
    "- Iterate over different patient/impatient scenarios and validate primal & dual produce same utility"
   ]
  },
  {
   "cell_type": "markdown",
   "metadata": {},
   "source": [
    "### Check that primal and dual solutions generated by Gurobi are equivilant"
   ]
  },
  {
   "cell_type": "code",
   "execution_count": null,
   "metadata": {},
   "outputs": [],
   "source": [
    "for R in range(30,50):\n",
    "    for S in range(30,50):\n",
    "        pairing_weights = generate_utility_pairings(R,S)\n",
    "        utility_1, _ = calculate_primal_solns_gurobi(pairing_weights, R, S)\n",
    "        utility_2, _ = calculate_dual_solns_gurobi(pairing_weights, R, S)\n",
    "        assert round(utility_1, 11) == round(utility_2, 11), \"Dual and Primal solutions are not equivilant\""
   ]
  },
  {
   "cell_type": "markdown",
   "metadata": {},
   "source": [
    "### Check online dual assignment solution"
   ]
  },
  {
   "cell_type": "markdown",
   "metadata": {},
   "source": [
    "Run several simple simulations to see how frequent ties are, and the discrepancy from the optimal utility\n",
    "\n",
    "- Between 30 and 40 patient agents (increments of 5)\n",
    "- Between 30 and 40 impatient agents"
   ]
  },
  {
   "cell_type": "code",
   "execution_count": 308,
   "metadata": {},
   "outputs": [],
   "source": [
    "utility_discrepencies = []\n",
    "nties = []\n",
    "\n",
    "for R in range(30,50,5):\n",
    "    for S in range(30,40):\n",
    "        pairing_weights = generate_utility_pairings(R,S)\n",
    "        utility_g, alphas, betas = calculate_dual_solns_gurobi(pairing_weights, R, S)\n",
    "        utility_o, _, ties = online_dual_assignment(alphas, betas, pairing_weights, R, S)\n",
    "        \n",
    "        diff = np.abs(utility_g - utility_o) / ((utility_g + utility_o) / 2) * 100\n",
    "        \n",
    "        utility_discrepencies.append(diff)\n",
    "        nties.append(ties)\n",
    "               "
   ]
  },
  {
   "cell_type": "markdown",
   "metadata": {},
   "source": [
    "### Number of ties being generated in various scenarios"
   ]
  },
  {
   "cell_type": "code",
   "execution_count": 339,
   "metadata": {},
   "outputs": [
    {
     "name": "stdout",
     "output_type": "stream",
     "text": [
      "Average number of ties:  11.425\n"
     ]
    },
    {
     "data": {
      "image/png": "[encoded data removed]",
      "text/plain": [
       "<Figure size 432x288 with 1 Axes>"
      ]
     },
     "metadata": {
      "needs_background": "light"
     },
     "output_type": "display_data"
    }
   ],
   "source": [
    "print('Average number of ties: ', np.mean(nties))\n",
    "\n",
    "f = plt.figure()\n",
    "plt.hist(nties)\n",
    "plt.gca().set(title='Number of ties being generated', ylabel='Freq',xlabel='Ties');"
   ]
  },
  {
   "cell_type": "code",
   "execution_count": 340,
   "metadata": {},
   "outputs": [
    {
     "name": "stdout",
     "output_type": "stream",
     "text": [
      "Average percent difference between optimal and allocated utility: 2.3742268466797984%\n"
     ]
    },
    {
     "data": {
      "image/png": "[encoded data removed]",
      "text/plain": [
       "<Figure size 432x288 with 1 Axes>"
      ]
     },
     "metadata": {
      "needs_background": "light"
     },
     "output_type": "display_data"
    }
   ],
   "source": [
    "print(\"Average percent difference between optimal and allocated utility: {}%\".format(np.mean(utility_discrepencies)))\n",
    "\n",
    "plt.hist(utility_discrepencies)\n",
    "plt.gca().set(title='Percent difference between optimal and allocated utility', ylabel='Freq',xlabel='% diff');"
   ]
  },
  {
   "cell_type": "code",
   "execution_count": null,
   "metadata": {},
   "outputs": [],
   "source": []
  }
 ],
 "metadata": {
  "kernelspec": {
   "display_name": "Python 3",
   "language": "python",
   "name": "python3"
  },
  "language_info": {
   "codemirror_mode": {
    "name": "ipython",
    "version": 3
   },
   "file_extension": ".py",
   "mimetype": "text/x-python",
   "name": "python",
   "nbconvert_exporter": "python",
   "pygments_lexer": "ipython3",
   "version": "3.7.3"
  }
 },
 "nbformat": 4,
 "nbformat_minor": 2
}
