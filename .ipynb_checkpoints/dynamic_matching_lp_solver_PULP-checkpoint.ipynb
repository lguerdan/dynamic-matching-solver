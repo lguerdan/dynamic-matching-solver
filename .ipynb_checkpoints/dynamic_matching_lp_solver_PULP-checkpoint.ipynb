{
 "cells": [
  {
   "cell_type": "code",
   "execution_count": null,
   "metadata": {},
   "outputs": [],
   "source": [
    "from scipy.optimize import linprog\n",
    "import numpy as np\n",
    "import pickle\n",
    "import pulp\n",
    "import pandas as pd\n",
    "\n",
    "from pulp import *\n",
    "import functools "
   ]
  },
  {
   "cell_type": "markdown",
   "metadata": {},
   "source": [
    "### First define some utility pairings based on a scenario"
   ]
  },
  {
   "cell_type": "code",
   "execution_count": 294,
   "metadata": {},
   "outputs": [],
   "source": [
    "def generate_utility_pairings(I,T):\n",
    "    '''Create a dummy scenario statisfying valid weight properties'''\n",
    "    impatient = np.random.rand(T,I+1) * 10\n",
    "    patient = np.random.rand(I,I+1) * 10\n",
    "    \n",
    "    patient[:,0] = -1\n",
    "    #make a few paris non-compatible\n",
    "    pairing_weights = np.concatenate((impatient, patient), axis=0)\n",
    "    for i in range(I+T):\n",
    "        i,j = np.random.randint(0,I+T), np.random.randint(1,I+1)\n",
    "        pairing_weights[i,j] = -1\n",
    "    \n",
    "    #make patient-patient pairings symmetric\n",
    "    pairing_weights[T:,1:] = np.maximum(pairing_weights[T:,1:], pairing_weights[T:,1:].T)\n",
    "    pairing_weights[T:,1:][np.eye(I,dtype=bool)] = -1\n",
    "    \n",
    "    return pairing_weights"
   ]
  },
  {
   "cell_type": "markdown",
   "metadata": {},
   "source": [
    "### Now define several functions to convert our problem formulation to standard matrix form"
   ]
  },
  {
   "cell_type": "code",
   "execution_count": 3,
   "metadata": {},
   "outputs": [],
   "source": [
    "def make_primal_constraint_matrix(I, T, c_len, pairing_weights):\n",
    "    constraints = np.zeros((T+I, c_len))\n",
    "    \n",
    "    for a in range(0, T):\n",
    "        constraint = np.zeros(pairing_weights.shape)\n",
    "        constraint[a, :] = 1\n",
    "        constraints[a,:] = constraint.reshape(constraint.shape[0] * constraint.shape[1])\n",
    "    \n",
    "    for B in range(0, I):\n",
    "        constraint = np.zeros(pairing_weights.shape)\n",
    "        constraint[B+T, 1:] += 1\n",
    "        constraint[:, B+1] += 1\n",
    "        constraints[B+T,:] = constraint.reshape(constraint.shape[0] * constraint.shape[1])\n",
    "    \n",
    "    return constraints\n",
    "\n",
    "def make_dual_constraint_matrix(I, T, pairing_weights):\n",
    "    constraints = np.zeros(((I+1)*T+I*I, T+I))\n",
    "    inequalities = np.zeros(((I+1)*T+I*I,1))\n",
    "    cix = 0\n",
    "    \n",
    "    #impatient constraints\n",
    "    for t in range(T):    \n",
    "        bixs = [i for i in range(T,T+I)]\n",
    "        bixs.insert(0,t)\n",
    "        \n",
    "        for ix, i in enumerate(bixs): \n",
    "            constraints[cix, t] = -1\n",
    "            constraints[cix,i] = -1\n",
    "            inequalities[cix] = -1 * pairing_weights[t, ix]\n",
    "            cix += 1\n",
    "            \n",
    "    #patient constraints\n",
    "    for i in range(I):    \n",
    "        for j in range(I):\n",
    "            constraints[cix, T+i] -= 1\n",
    "            constraints[cix, T+j] -= 1\n",
    "            inequalities[cix] = -1 * pairing_weights[T+i, j+1]\n",
    "            cix += 1\n",
    "\n",
    "    return constraints, inequalities"
   ]
  },
  {
   "cell_type": "markdown",
   "metadata": {},
   "source": [
    "### Find optimal pairings & utility based on the primal. Find optimal coefficients & utility based on the dual"
   ]
  },
  {
   "cell_type": "code",
   "execution_count": 25,
   "metadata": {},
   "outputs": [],
   "source": [
    "def calculate_primal_solns_scipy(pairing_weights, I, T):\n",
    "\n",
    "    c = -1 * pairing_weights.reshape(pairing_weights.shape[0] * pairing_weights.shape[1])\n",
    "    constraints = make_primal_constraint_matrix(I, T, len(c), pairing_weights)\n",
    "    b = np.ones((constraints.shape[0],1))\n",
    "\n",
    "    solved_program = linprog(c, constraints, b)\n",
    "    pairings = solved_program.x.reshape(pairing_weights.shape)\n",
    "    utility_p = -1 * solved_program.fun\n",
    "    \n",
    "#     print(solved_program)\n",
    "    return utility_p, pairings\n",
    "\n",
    "def calculate_dual_solns_scipy(pairing_weights, I, T):\n",
    "\n",
    "    constraints_d, inequalities_d = make_dual_constraint_matrix(I, T, pairing_weights)\n",
    "    c_d = np.ones((T+I))\n",
    "\n",
    "    solved_program = linprog(c_d, constraints_d, inequalities_d)\n",
    "    coefficients = solved_program.x\n",
    "    utility_d = solved_program.fun\n",
    "    \n",
    "    if solved_program.success == False:\n",
    "        print(solved_program.message)\n",
    "    \n",
    "    return utility_d, coefficients\n",
    "\n",
    "def calculate_primal_solns_pulp(pairing_weights, I, T):\n",
    "    weights = pairing_weights.reshape(pairing_weights.shape[0] * pairing_weights.shape[1])\n",
    "\n",
    "    constraints_p = make_primal_constraint_matrix(I, T, len(weights), pairing_weights)\n",
    "    constraints_d, _ = make_dual_constraint_matrix(I, T, pairing_weights)\n",
    "    \n",
    "    problem = LpProblem(\"primal\", LpMaximize)\n",
    "    variables = [LpVariable(\"x{}\".format(i+1), 0,1, cat=\"Continuous\") for i in range(constraints_p.shape[1])]\n",
    "    utility = sum(weight * var for weight,var in zip(weights, variables))\n",
    "    problem += utility\n",
    "\n",
    "    for ix,constraint in enumerate(constraints_p):\n",
    "        c = None\n",
    "        for iy,var in enumerate(constraint):\n",
    "            if var:\n",
    "                c += var*variables[iy]\n",
    "\n",
    "        problem += c - 1 <= 0\n",
    "\n",
    "    status = problem.solve()\n",
    "    print(\"Objective value:\", value(problem.objective))\n",
    "#     opt_vals = np.array([v.varValue for v in problem.variables()])\n",
    "#     opt_vars = [v.varValue for v in problem.variables()]\n",
    "#     sort_df = pd.DataFrame({'val': opt_vals, 'var':opt_vars})\n",
    "#     sort_df.sort('val')\n",
    "\n",
    "#     for val in problem.variables():\n",
    "#         print(val.name)\n",
    "#         print(val.varValue)\n",
    "#     opt_vals.reshape(pairing_weights.shape)\n",
    " \n",
    "\n",
    "def calculate_dual_solns_pulp(pairing_weights, I, T):\n",
    "    \n",
    "    weights = pairing_weights.reshape(pairing_weights.shape[0] * pairing_weights.shape[1])\n",
    "    constraints_p = make_primal_constraint_matrix(I, T, len(weights), pairing_weights)\n",
    "    constraints_d, inequalities_d = make_dual_constraint_matrix(I, T, pairing_weights)\n",
    "    \n",
    "    problem_d = LpProblem(\"dual\", LpMinimize)\n",
    "    duals = [LpVariable(\"x{}\".format(i+1), 0, cat=\"Continuous\") for i in range(T+I)]\n",
    "    xs = [1 for i in range(T+I)]\n",
    "\n",
    "    # add objective\n",
    "    total_utility = sum(x * obj for x,obj in zip(xs, duals))\n",
    "    problem_d += total_utility\n",
    "\n",
    "    for ix,constraint in enumerate(constraints_d):\n",
    "        c = None\n",
    "        for iy,var in enumerate(constraint):\n",
    "            if var:\n",
    "                c += var*duals[iy] \n",
    "\n",
    "        problem_d += c <= inequalities_d[ix]\n",
    "    \n",
    "    status = problem_d.solve()\n",
    "    print(\"Objective value:\", value(problem_d.objective))\n"
   ]
  },
  {
   "cell_type": "code",
   "execution_count": 117,
   "metadata": {},
   "outputs": [],
   "source": [
    "T = 20 #impatient agents\n",
    "I = 20 #patient agents\n",
    "\n",
    "pairing_weights = generate_utility_pairings(I,T)"
   ]
  },
  {
   "cell_type": "markdown",
   "metadata": {},
   "source": [
    "### Pulp"
   ]
  },
  {
   "cell_type": "code",
   "execution_count": 119,
   "metadata": {},
   "outputs": [
    {
     "name": "stdout",
     "output_type": "stream",
     "text": [
      "Objective value: 22.93414845649679\n",
      "Objective value: 22.934148460000007\n"
     ]
    }
   ],
   "source": [
    "calculate_primal_solns_pulp(pairing_weights, I, T)\n",
    "calculate_dual_solns_pulp(pairing_weights, I, T)"
   ]
  },
  {
   "cell_type": "markdown",
   "metadata": {},
   "source": [
    "### Scipy"
   ]
  },
  {
   "cell_type": "code",
   "execution_count": 120,
   "metadata": {},
   "outputs": [
    {
     "name": "stdout",
     "output_type": "stream",
     "text": [
      "Optimization failed. Unable to find a feasible starting point.\n",
      "8.851506130458551\n",
      "22.934148456496796\n"
     ]
    }
   ],
   "source": [
    "utility_p, pairings = calculate_primal_solns_scipy(pairing_weights, I, T)\n",
    "utility_d, coeffs = calculate_dual_solns_scipy(pairing_weights, I, T)\n",
    "print(utility_d)\n",
    "print(utility_p)"
   ]
  },
  {
   "cell_type": "code",
   "execution_count": null,
   "metadata": {},
   "outputs": [],
   "source": []
  },
  {
   "cell_type": "code",
   "execution_count": 280,
   "metadata": {},
   "outputs": [],
   "source": [
    "T = 20 #impatient agents\n",
    "I = 20 #patient agents\n",
    "\n",
    "pairing_weights = generate_utility_pairings(I,T)"
   ]
  },
  {
   "cell_type": "code",
   "execution_count": 307,
   "metadata": {},
   "outputs": [
    {
     "data": {
      "text/plain": [
       "array([[ 0.42259937,  5.83551631, -1.        , -1.        ,  0.97839862,\n",
       "         8.04797411,  9.00522332],\n",
       "       [ 8.61319013,  9.37834377,  1.01307477,  7.13193153,  7.26451858,\n",
       "        -1.        ,  1.12309674],\n",
       "       [ 5.57206217,  3.67139453,  4.10293558,  5.78355786,  7.78706606,\n",
       "         6.84663936,  6.45955556],\n",
       "       [ 8.60286208,  0.50589715,  0.02109523,  1.69722938,  1.3224844 ,\n",
       "         9.1043263 ,  9.69522767],\n",
       "       [-1.        , -1.        ,  2.26476903,  3.24194769,  9.98651303,\n",
       "         7.30297733,  9.88810707],\n",
       "       [-1.        ,  2.26476903, -1.        ,  1.9329402 ,  8.91986278,\n",
       "         8.76908626,  8.80183924],\n",
       "       [-1.        ,  3.24194769,  1.9329402 , -1.        ,  3.41518755,\n",
       "         5.11803352,  9.54454236],\n",
       "       [-1.        ,  9.98651303,  8.91986278,  3.41518755, -1.        ,\n",
       "         3.58105765,  6.41111576],\n",
       "       [-1.        ,  7.30297733,  8.76908626,  5.11803352,  3.58105765,\n",
       "        -1.        ,  5.83346188],\n",
       "       [-1.        ,  9.88810707,  8.80183924,  9.54454236,  6.41111576,\n",
       "         5.83346188, -1.        ]])"
      ]
     },
     "execution_count": 307,
     "metadata": {},
     "output_type": "execute_result"
    }
   ],
   "source": [
    "pairing_weights"
   ]
  },
  {
   "cell_type": "markdown",
   "metadata": {},
   "source": [
    "# Testing\n",
    "- Iterate over different patient/impatient scenarios and validate primal & dual produce same utility"
   ]
  },
  {
   "cell_type": "code",
   "execution_count": null,
   "metadata": {},
   "outputs": [],
   "source": [
    "for R in range(1,10):\n",
    "    for S in range(1,10):\n",
    "        pairing_weights = generate_utility_pairings(R,S)\n",
    "        utility_1, _ = calculate_primal_solns_scipy(pairing_weights, R, S)\n",
    "        utility_2, _ = calculate_dual_solns_scipy(pairing_weights, R, S)\n",
    "        assert round(utility_1, 10) == round(utility_2, 10), \"Dual and Primal solutions are not equivilant\""
   ]
  },
  {
   "cell_type": "markdown",
   "metadata": {},
   "source": [
    "# Implement online assignment algorithm and check solution"
   ]
  },
  {
   "cell_type": "code",
   "execution_count": 286,
   "metadata": {},
   "outputs": [],
   "source": [
    "def check_opt_io(shaddow_pairings, j, weights, betas):\n",
    "    for ix,x in enumerate(shaddow_pairings):\n",
    "        for iy,y in enumerate(shaddow_pairings):\n",
    "            if x==y and x != 0 and x != -1 and ix!=iy:\n",
    "                print('tie')\n",
    "                print(weights[ix] - betas[j] - betas[ix] )\n",
    "                print(weights[iy] - betas[j] - betas[iy] )\n",
    "                return\n",
    "\n",
    "def online_dual_assignment(betas, pairing_weights, I, T):\n",
    "    betas = np.insert(betas, 0,0)\n",
    "    II = [i for i in range(I+1)]\n",
    "    II_membership = np.ones((I+1), np.bool)\n",
    "    matches = []\n",
    "    \n",
    "    for t in range(0,T):\n",
    "        shaddow_pairings = pairing_weights[t, :] - betas\n",
    "        shaddow_pairings[~II_membership] = -1\n",
    "        io = np.argmax(shaddow_pairings)\n",
    "        \n",
    "#         print('t',t)\n",
    "#         print('weights:', pairing_weights[t, :])\n",
    "#         print('betas:', betas)\n",
    "#         print('shaddow_pairing:', shaddow_pairings)\n",
    "#         print('\\n')\n",
    "        \n",
    "        check_opt_io(shaddow_pairings, t,  pairing_weights[t, :], betas)\n",
    "        \n",
    "        if io == 0:\n",
    "            matches.append((t,0))\n",
    "        else:\n",
    "            matches.append((t, io))\n",
    "            II_membership[io] = 0\n",
    "            \n",
    "    for j in range(1,I+1):\n",
    "#         print('deciding')\n",
    "#         print('j',j)\n",
    "#         print('membership:', II_membership)\n",
    "        \n",
    "        if II_membership[j]:\n",
    "\n",
    "            shaddow_pairings = pairing_weights[T+j-1, :] - betas\n",
    "            shaddow_pairings[~II_membership] = -1\n",
    "            shaddow_pairings[j] = -1\n",
    "            \n",
    "            io = np.argmax(shaddow_pairings)\n",
    "            \n",
    "#             print('j',T+j-1)\n",
    "#             print('weights:', pairing_weights[T+j-1, :])\n",
    "#             print('betas:', betas)\n",
    "#             print('shaddow_pairing:', shaddow_pairings)\n",
    "#             print('membership:', II_membership)\n",
    "#             print('\\n')\n",
    "            \n",
    "\n",
    "            if io != 0:\n",
    "                matches.append((T+j-1, io))\n",
    "                II_membership[io] = 0\n",
    "                II_membership[j] = 0\n",
    "            \n",
    "#             print('j:',j)\n",
    "#             print('io:',io)\n",
    "#             print(II_membership)\n",
    "         \n",
    "    pairings = np.zeros(pairing_weights.shape)\n",
    "    utility = 0\n",
    "    for match in matches:\n",
    "        pairings[match[0], match[1]] = 1\n",
    "        utility += pairing_weights[match[0], match[1]]\n",
    "                \n",
    "    return utility, pairings\n",
    "    "
   ]
  },
  {
   "cell_type": "code",
   "execution_count": 304,
   "metadata": {},
   "outputs": [],
   "source": [
    "T = 4 #impatient agents\n",
    "I = 6 #patient agents\n",
    "\n",
    "\n",
    "pairing_weights = generate_utility_pairings(I,T)"
   ]
  },
  {
   "cell_type": "code",
   "execution_count": 305,
   "metadata": {},
   "outputs": [
    {
     "name": "stdout",
     "output_type": "stream",
     "text": [
      "t 0\n",
      "weights: [ 0.42259937  5.83551631 -1.         -1.          0.97839862  8.04797411\n",
      "  9.00522332]\n",
      "betas: [0.         3.81163935 2.7449891  0.21149568 6.17487368 6.02409715\n",
      " 9.33304667]\n",
      "shaddow_pairing: [ 0.42259937  2.02387695 -3.7449891  -1.21149568 -5.19647506  2.02387695\n",
      " -0.32782336]\n",
      "\n",
      "\n",
      "tie\n",
      "2.0238769546892517\n",
      "2.0238769546892517\n",
      "t 1\n",
      "weights: [ 8.61319013  9.37834377  1.01307477  7.13193153  7.26451858 -1.\n",
      "  1.12309674]\n",
      "betas: [0.         3.81163935 2.7449891  0.21149568 6.17487368 6.02409715\n",
      " 9.33304667]\n",
      "shaddow_pairing: [ 8.61319013 -1.         -1.73191434  6.92043584  1.0896449  -7.02409715\n",
      " -8.20994993]\n",
      "\n",
      "\n",
      "t 2\n",
      "weights: [5.57206217 3.67139453 4.10293558 5.78355786 7.78706606 6.84663936\n",
      " 6.45955556]\n",
      "betas: [0.         3.81163935 2.7449891  0.21149568 6.17487368 6.02409715\n",
      " 9.33304667]\n",
      "shaddow_pairing: [ 5.57206217 -1.          1.35794647  5.57206217  1.61219239  0.82254221\n",
      " -2.87349111]\n",
      "\n",
      "\n",
      "t 3\n",
      "weights: [8.60286208 0.50589715 0.02109523 1.69722938 1.3224844  9.1043263\n",
      " 9.69522767]\n",
      "betas: [0.         3.81163935 2.7449891  0.21149568 6.17487368 6.02409715\n",
      " 9.33304667]\n",
      "shaddow_pairing: [ 8.60286208 -1.         -2.72389387 -1.         -4.85238928  3.08022915\n",
      "  0.362181  ]\n",
      "\n",
      "\n",
      "Optimal allocations from primal\n",
      "[[0.  0.5 0.  0.  0.  0.5 0. ]\n",
      " [1.  0.  0.  0.  0.  0.  0. ]\n",
      " [1.  0.  0.  0.  0.  0.  0. ]\n",
      " [1.  0.  0.  0.  0.  0.  0. ]\n",
      " [0.  0.  0.  0.  0.5 0.  0. ]\n",
      " [0.  0.  0.  0.  0.5 0.5 0. ]\n",
      " [0.  0.  0.  0.  0.  0.  1. ]\n",
      " [0.  0.  0.  0.  0.  0.  0. ]\n",
      " [0.  0.  0.  0.  0.  0.  0. ]\n",
      " [0.  0.  0.  0.  0.  0.  0. ]]\n",
      "Online allocations\n",
      "[[0. 1. 0. 0. 0. 0. 0.]\n",
      " [1. 0. 0. 0. 0. 0. 0.]\n",
      " [0. 0. 0. 1. 0. 0. 0.]\n",
      " [1. 0. 0. 0. 0. 0. 0.]\n",
      " [0. 0. 0. 0. 0. 0. 0.]\n",
      " [0. 0. 0. 0. 1. 0. 0.]\n",
      " [0. 0. 0. 0. 0. 0. 0.]\n",
      " [0. 0. 0. 0. 0. 0. 0.]\n",
      " [0. 0. 0. 0. 0. 0. 0.]\n",
      " [0. 0. 0. 0. 0. 1. 0.]]\n",
      "\n",
      "Base utility\n",
      "53.112132984493634\n",
      "53.112132984493634\n",
      "Online utility\n",
      "43.58845103778216\n"
     ]
    }
   ],
   "source": [
    "#Get knowlege of optimal Bis\n",
    "up, pairings_actual = calculate_primal_solns_scipy(pairing_weights, I, T)\n",
    "ud, coeffs = calculate_dual_solns_scipy(pairing_weights, I, T)\n",
    "\n",
    "shu = coeffs[T:] + np.random.uniform(-.01,.01,coeffs[T:].shape[0])\n",
    "\n",
    "utility, pairings_test = online_dual_assignment(coeffs[T:], pairing_weights, I, T)\n",
    "\n",
    "print('Optimal allocations from primal')\n",
    "print(pairings_actual)\n",
    "print('Online allocations')\n",
    "print(pairings_test)\n",
    "\n",
    "print('\\nBase utility')\n",
    "print(up)\n",
    "print(ud)\n",
    "print('Online utility')\n",
    "print(utility)\n"
   ]
  },
  {
   "cell_type": "code",
   "execution_count": 306,
   "metadata": {},
   "outputs": [
    {
     "data": {
      "text/plain": [
       "array([[ 0.42259937,  5.83551631, -1.        , -1.        ,  0.97839862,\n",
       "         8.04797411,  9.00522332],\n",
       "       [ 8.61319013,  9.37834377,  1.01307477,  7.13193153,  7.26451858,\n",
       "        -1.        ,  1.12309674],\n",
       "       [ 5.57206217,  3.67139453,  4.10293558,  5.78355786,  7.78706606,\n",
       "         6.84663936,  6.45955556],\n",
       "       [ 8.60286208,  0.50589715,  0.02109523,  1.69722938,  1.3224844 ,\n",
       "         9.1043263 ,  9.69522767],\n",
       "       [-1.        , -1.        ,  2.26476903,  3.24194769,  9.98651303,\n",
       "         7.30297733,  9.88810707],\n",
       "       [-1.        ,  2.26476903, -1.        ,  1.9329402 ,  8.91986278,\n",
       "         8.76908626,  8.80183924],\n",
       "       [-1.        ,  3.24194769,  1.9329402 , -1.        ,  3.41518755,\n",
       "         5.11803352,  9.54454236],\n",
       "       [-1.        ,  9.98651303,  8.91986278,  3.41518755, -1.        ,\n",
       "         3.58105765,  6.41111576],\n",
       "       [-1.        ,  7.30297733,  8.76908626,  5.11803352,  3.58105765,\n",
       "        -1.        ,  5.83346188],\n",
       "       [-1.        ,  9.88810707,  8.80183924,  9.54454236,  6.41111576,\n",
       "         5.83346188, -1.        ]])"
      ]
     },
     "execution_count": 306,
     "metadata": {},
     "output_type": "execute_result"
    }
   ],
   "source": [
    "pairing_weights"
   ]
  },
  {
   "cell_type": "code",
   "execution_count": 252,
   "metadata": {},
   "outputs": [
    {
     "data": {
      "text/plain": [
       "array([0.42323781, 0.12277296, 0.3999381 ])"
      ]
     },
     "execution_count": 252,
     "metadata": {},
     "output_type": "execute_result"
    }
   ],
   "source": [
    "coeffs[T:]"
   ]
  },
  {
   "cell_type": "code",
   "execution_count": 173,
   "metadata": {},
   "outputs": [],
   "source": [
    "t = np.insert(coeffs[T:], 0,0)\n"
   ]
  },
  {
   "cell_type": "code",
   "execution_count": 174,
   "metadata": {},
   "outputs": [
    {
     "data": {
      "text/plain": [
       "array([ 0.40603505,  0.40603505, -0.32228037, -0.51603578, -0.32408254])"
      ]
     },
     "execution_count": 174,
     "metadata": {},
     "output_type": "execute_result"
    }
   ],
   "source": [
    "pairing_weights[1,:] - t"
   ]
  },
  {
   "cell_type": "code",
   "execution_count": null,
   "metadata": {},
   "outputs": [],
   "source": []
  }
 ],
 "metadata": {
  "kernelspec": {
   "display_name": "Python 3",
   "language": "python",
   "name": "python3"
  },
  "language_info": {
   "codemirror_mode": {
    "name": "ipython",
    "version": 3
   },
   "file_extension": ".py",
   "mimetype": "text/x-python",
   "name": "python",
   "nbconvert_exporter": "python",
   "pygments_lexer": "ipython3",
   "version": "3.7.2"
  }
 },
 "nbformat": 4,
 "nbformat_minor": 2
}
