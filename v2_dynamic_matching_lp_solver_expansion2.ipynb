{
 "cells": [
  {
   "cell_type": "code",
   "execution_count": 28,
   "metadata": {},
   "outputs": [],
   "source": [
    "from scipy.optimize import linprog\n",
    "import numpy as np\n",
    "import pickle\n",
    "import pandas as pd\n",
    "import matplotlib.pyplot as plt\n",
    "from gurobi import *\n",
    "\n",
    "from dynamic_matching import DynamicMatchingBase\n",
    "np.set_printoptions(precision=3)"
   ]
  },
  {
   "cell_type": "markdown",
   "metadata": {},
   "source": [
    "### Define some utility functions"
   ]
  },
  {
   "cell_type": "code",
   "execution_count": 2,
   "metadata": {},
   "outputs": [],
   "source": [
    "def in_constraint(v):\n",
    "    if v[1]:\n",
    "        return True\n",
    "    else:\n",
    "        return False\n",
    "\n",
    "def print_tableau(matches):\n",
    "    for i in range(matches.shape[2]):\n",
    "        print(\"t=\",i)\n",
    "        print(matches[:,:,i])\n",
    "        \n",
    "def validate_allocation(allocations):\n",
    "    agents_matched = allocations.sum(axis=2).sum(axis=0).sum()\n",
    "    print(\"{} out of {} agents matched\".format(agents_matched, J))\n",
    "    print(\"{} agents have self matched\".format(allocations[0,:,:].sum()))\n",
    "    print(\"Self-matched agents are: \", np.nonzero(allocs[0,:,:].sum(axis=1))[0])\n",
    "\n",
    "    assert agents_matched <= J, \"An agent has been matched more than once\"\n",
    "\n",
    "    for i in range(I):\n",
    "        for j in range(J):\n",
    "            for t in range(T):\n",
    "                maxit = min(T, t+d)\n",
    "                assert allocations[i,j,t:maxit].sum() <= c[i], \"A resource has been over allocated\"\n",
    "\n",
    "def create_tableau(I,J,T):\n",
    "    valid_matches = np.zeros((I,J,T), np.int)\n",
    "\n",
    "    #valid allocations based on arival time\n",
    "    for t in range(T):\n",
    "        valid_matches[:,max(0,t-d):min(t+1,J),t] = 1\n",
    "\n",
    "    #make weights uniform across time\n",
    "    pairing_weights = np.random.random(valid_matches.shape) \n",
    "    for t in range(1,pairing_weights.shape[2]):\n",
    "        pairing_weights[:,:,t] = pairing_weights[:,:,0]\n",
    "    \n",
    "    pairing_weights[0,:,:] = 1e-5\n",
    "    pairing_weights[valid_matches == 0] = -1\n",
    "\n",
    "    return valid_matches, pairing_weights\n",
    "\n",
    "def make_alpha_mapping(I,J,T,alphas,valid_matches):\n",
    "    constraints_d, _ = dual_constraint_matrix(valid_matches,pairing_weights,I,J,T)\n",
    "    constraints_d = constraints_d[:,:alphas.size]\n",
    "    alpha_map = np.zeros((*valid_matches.shape,constraints_d.shape[1]))\n",
    "\n",
    "    cix=0\n",
    "    for i in range(I):\n",
    "            for j in range(J):\n",
    "                for t in range(T):\n",
    "                    if valid_matches[i][j][t]:\n",
    "                        alpha_map[i,j,t,:] = constraints_d[cix,:]\n",
    "                        cix += 1\n",
    "    return alpha_map\n",
    "    "
   ]
  },
  {
   "cell_type": "markdown",
   "metadata": {},
   "source": [
    "To make the dual constraint matrix: \n",
    "- Create a constraint map to see which alphas/betas apply at a given location in the primal. Each valid location will correspond to a constraint in the dual, and the variables == 1 will be those in the `cmap[i][j][t]`"
   ]
  },
  {
   "cell_type": "code",
   "execution_count": 3,
   "metadata": {},
   "outputs": [],
   "source": [
    "def primal_constraint_matrix(valid_matches, I,J,T):\n",
    "\n",
    "    constraints = np.zeros((T*I+J,valid_matches.size))\n",
    "    cix = 0\n",
    "    #constraints limiting to one resource allocation in the time interval\n",
    "    for i in range(I):\n",
    "        for t in range(T):\n",
    "            constraint = np.zeros((I,J,T), np.int)\n",
    "            valid_mask = constraint.copy()\n",
    "            endix = min(t+k[i],T)\n",
    "            valid_mask[i,:,t:endix] = 1 \n",
    "            constraint[(valid_matches == 1) & (valid_mask == 1)] = 1\n",
    "            constraints[cix,:] = constraint.reshape((1, constraint.shape[0] * constraint.shape[1] * constraint.shape[2]))\n",
    "            cix += 1\n",
    "\n",
    "    #constraints limiting each agent to only match once            \n",
    "    for j in range(J):\n",
    "        constraint = np.zeros((I,J,T), np.int)\n",
    "        valid_mask = constraint.copy()\n",
    "        valid_mask[:,j,:] = 1\n",
    "\n",
    "        constraint[(valid_matches == 1) & (valid_mask ==1)] = 1\n",
    "        constraints[cix+j,:] = constraint.reshape((1, constraint.shape[0] * constraint.shape[1] * constraint.shape[2]))\n",
    "    \n",
    "    return constraints\n",
    "\n",
    "\n",
    "def dual_constraint_matrix(valid_matches,pairing_weights,I,J,T):\n",
    "\n",
    "    constraint_map = np.zeros((I,J,T,T*I+J), np.int)\n",
    "    cix = 0\n",
    "\n",
    "    #constraints limiting to one resource allocation in the time interval\n",
    "    for i in range(I):\n",
    "        for t in range(T):\n",
    "            constraint = np.zeros((I,J,T), np.int)\n",
    "            valid_mask = constraint.copy()\n",
    "\n",
    "            endix = min(t+k[i],T)\n",
    "            valid_mask[i,:,t:endix] = 1 \n",
    "            constraint[(valid_matches == 1) & (valid_mask == 1)] = 1\n",
    "\n",
    "            constraint_map[:,:,:,cix] = constraint.copy()\n",
    "            cix += 1\n",
    "\n",
    "    #constraints limiting each agent to only match once            \n",
    "    for j in range(J):\n",
    "        constraint = np.zeros((I,J,T), np.int)\n",
    "        valid_mask = constraint.copy()\n",
    "        valid_mask[:,j,:] = 1\n",
    "        constraint[(valid_matches == 1) & (valid_mask ==1)] = 1\n",
    "        constraint_map[:,:,:,cix] = constraint.copy()\n",
    "        cix += 1\n",
    "\n",
    "    dual_constraint_matrix = np.zeros((valid_matches.sum(), constraint_map.shape[3]))\n",
    "    inequalities = np.zeros(valid_matches.sum())\n",
    "    \n",
    "\n",
    "    cix = 0\n",
    "    for i in range(I):\n",
    "        for j in range(J):\n",
    "            for t in range(T):\n",
    "                if valid_matches[i][j][t]:\n",
    "                    dual_constraint_matrix[cix,:] = constraint_map[i,j,t,:] \n",
    "                    inequalities[cix] = pairing_weights[i,j,t]\n",
    "                    cix += 1\n",
    "    \n",
    "    return dual_constraint_matrix, inequalities\n",
    "\n"
   ]
  },
  {
   "cell_type": "code",
   "execution_count": 4,
   "metadata": {},
   "outputs": [],
   "source": [
    "def primal_solutions(pairing_weights, I, J, T):\n",
    "    m = Model(\"dynamicmatch_primal\")\n",
    "    m.modelSense = GRB.MAXIMIZE\n",
    "    m.setParam( 'OutputFlag', False )\n",
    "\n",
    "    weights = pairing_weights.reshape(pairing_weights.shape[0] * pairing_weights.shape[1] * pairing_weights.shape[2])\n",
    "    constraints = primal_constraint_matrix(valid_matches, I,J,T)\n",
    "\n",
    "\n",
    "    keys = range(constraints.shape[1])\n",
    "    variables = m.addVars(keys,\n",
    "                    vtype=GRB.CONTINUOUS,\n",
    "                     obj=weights,\n",
    "                     name=\"primal\",\n",
    "                     lb=0)\n",
    "\n",
    "    for cix, constraint in enumerate(constraints):\n",
    "        equality = c[cix // T] if cix < T * I else 1\n",
    "        m.addConstr(sum(variables[o]*c for o,c in filter(in_constraint, zip(variables,constraint))) <= equality)\n",
    "\n",
    "    m.optimize()\n",
    "    m.write('primal_formulation.lp')\n",
    "    allocations = np.array([variables[var].X for var in variables]).reshape(pairing_weights.shape)\n",
    "\n",
    "    return m.objVal, allocations\n",
    "\n",
    "\n",
    "def dual_solutions(valid_matches, pairing_weights, I, J, T):\n",
    "    md = Model(\"dynamicmatch_dual\")\n",
    "    md.modelSense = GRB.MINIMIZE\n",
    "    md.setParam( 'OutputFlag', False )\n",
    "\n",
    "    constraints_d, inequalities = dual_constraint_matrix(valid_matches,pairing_weights,I,J,T)\n",
    "    c_d = np.ones(constraints_d.shape[1])\n",
    "    \n",
    "    for ix in range(constraints_d.shape[1]):\n",
    "        c_d[ix] = c[ix // T] if ix < T * I else 1\n",
    "    \n",
    "    keys = range(constraints_d.shape[1])\n",
    "    variables = md.addVars(keys,\n",
    "                    vtype=GRB.CONTINUOUS,\n",
    "                    obj=c_d,\n",
    "                    name=\"dual\",\n",
    "                    lb=0)\n",
    "\n",
    "    for cix, constraint in enumerate(constraints_d):\n",
    "        con = sum(variables[o]*c for o,c in filter(in_constraint, zip(variables,constraint))) >= inequalities[cix]\n",
    "        md.addConstr(sum(variables[o]*c for o,c in filter(in_constraint, zip(variables,constraint))) >= inequalities[cix])\n",
    "\n",
    "    md.optimize()\n",
    "    duals = np.array([variables[var].X for var in variables])\n",
    "    betas = duals[duals.size - J:]\n",
    "    alphas = duals[:duals.size - J]\n",
    "    \n",
    "    md.write('dual_formulation.lp')\n",
    "    return md.objVal, alphas, betas\n",
    "\n",
    "\n"
   ]
  },
  {
   "cell_type": "markdown",
   "metadata": {},
   "source": [
    "### Basic online allocation alogrithm implementation\n",
    "- At each time, for each candidate resource / utility pair, allocate if assignment term less than epsilon\n",
    "- Track validity of candidate matches based on arrival/departure model, previously matched agents, and resource utilization times\n"
   ]
  },
  {
   "cell_type": "code",
   "execution_count": 35,
   "metadata": {},
   "outputs": [],
   "source": [
    "def make_alpha_tableau(valid_matches, alphas, I, T):\n",
    "\n",
    "    alpha_tableau = np.zeros(valid_matches.shape)\n",
    "    ii = 0\n",
    "    it = 0\n",
    "    for ax, alpha in enumerate(alphas):\n",
    "\n",
    "        if ii < I:\n",
    "            use_length = k[ax // T]\n",
    "            alpha_tableau[ii,:,it:it+use_length] = alpha\n",
    "            it = it+use_length\n",
    "\n",
    "            if it >= alpha_tableau.shape[2]:\n",
    "                it = 0\n",
    "                ii += 1\n",
    "                \n",
    "    return alpha_tableau"
   ]
  },
  {
   "cell_type": "code",
   "execution_count": 36,
   "metadata": {},
   "outputs": [],
   "source": [
    "def online_matching(I,J,T,k,c,alphas,betas,valid_matches,pairing_weights,epsilon):\n",
    "\n",
    "    alpha_tableau = make_alpha_tableau(valid_matches, alphas, I, T)\n",
    "    online_allocations = np.zeros(pairing_weights.shape)\n",
    "    comps = np.zeros(pairing_weights.shape)\n",
    "    utility = 0\n",
    "    candidate_matches = valid_matches.copy()\n",
    "\n",
    "    for t in range(T):\n",
    "        for i in range(1,I):\n",
    "            for j in range(J):\n",
    "                if candidate_matches[i,j,t]:\n",
    "\n",
    "                    tmax = min(t+k[i]-1, T)\n",
    "                    asum = np.sum(alpha_tableau[i,j,t:tmax])\n",
    "\n",
    "                    comps[i,j,t] = np.abs(pairing_weights[i,j,t] - asum - betas[j])\n",
    "                    #allocate if less than epsilon\n",
    "                    if np.abs(pairing_weights[i,j,t] - asum - betas[j]) <= epsilon:\n",
    "                        online_allocations[i,j,t] = 1\n",
    "                        utility += pairing_weights[i,j,t]\n",
    "\n",
    "                        #prevent matches based on constraints\n",
    "                        candidate_matches[i,:,t:tmax] = 0\n",
    "                        candidate_matches[:,j,:] = 0\n",
    "                    \n",
    "                    #agent hasn't been allocated, self match\n",
    "                    elif j == t - d:\n",
    "                        online_allocations[0,j,t] = 1\n",
    "                        utility += pairing_weights[0,j,t]\n",
    "                        candidate_matches[:,j,:] = 0                 \n",
    "    \n",
    "    return utility, online_allocations\n"
   ]
  },
  {
   "cell_type": "markdown",
   "metadata": {},
   "source": [
    "### Define situation variables"
   ]
  },
  {
   "cell_type": "code",
   "execution_count": 7,
   "metadata": {},
   "outputs": [],
   "source": [
    "J = 6 # number of agents\n",
    "d = 2 # wait time for each agent\n",
    "\n",
    "I = 3 # number of resources\n",
    "# k = np.random.randint(14,19, size=(I)) # utilization time for resource i\n",
    "# c = np.random.randint(2,3, size=(I)) # number of copies for resource i\n",
    "k=np.array([1,5,7])\n",
    "c=np.array([J,1,1])\n",
    "\n",
    "# c[0] = J\n",
    "# k[0] = 1\n",
    "\n",
    "T = J+d # total time for matches to occur\n",
    "\n",
    "valid_matches, pairing_weights = create_tableau(I,J,T)"
   ]
  },
  {
   "cell_type": "markdown",
   "metadata": {},
   "source": [
    "# Testing online matching"
   ]
  },
  {
   "cell_type": "markdown",
   "metadata": {},
   "source": [
    "# Testing different dual scenarios "
   ]
  },
  {
   "cell_type": "markdown",
   "metadata": {},
   "source": [
    "### First get a baseline for the alphas"
   ]
  },
  {
   "cell_type": "code",
   "execution_count": 8,
   "metadata": {},
   "outputs": [
    {
     "name": "stdout",
     "output_type": "stream",
     "text": [
      "Academic license - for non-commercial use only\n",
      "primal utility: 1.8146489606619092\n",
      "dual utility: 1.8146489606619096\n",
      "6.0 out of 6 agents matched\n",
      "3.0 agents have self matched\n",
      "Self-matched agents are:  [1 2 3]\n",
      "t= 0\n",
      "[[0. 0. 0. 0. 0. 0.]\n",
      " [1. 0. 0. 0. 0. 0.]\n",
      " [0. 0. 0. 0. 0. 0.]]\n",
      "t= 1\n",
      "[[0. 0. 0. 0. 0. 0.]\n",
      " [0. 0. 0. 0. 0. 0.]\n",
      " [0. 0. 0. 0. 0. 0.]]\n",
      "t= 2\n",
      "[[0. 0. 0. 0. 0. 0.]\n",
      " [0. 0. 0. 0. 0. 0.]\n",
      " [0. 0. 0. 0. 0. 0.]]\n",
      "t= 3\n",
      "[[0. 1. 1. 0. 0. 0.]\n",
      " [0. 0. 0. 0. 0. 0.]\n",
      " [0. 0. 0. 0. 0. 0.]]\n",
      "t= 4\n",
      "[[0. 0. 0. 0. 0. 0.]\n",
      " [0. 0. 0. 0. 0. 0.]\n",
      " [0. 0. 0. 0. 0. 0.]]\n",
      "t= 5\n",
      "[[0. 0. 0. 1. 0. 0.]\n",
      " [0. 0. 0. 0. 0. 0.]\n",
      " [0. 0. 0. 0. 0. 0.]]\n",
      "t= 6\n",
      "[[0. 0. 0. 0. 0. 0.]\n",
      " [0. 0. 0. 0. 1. 0.]\n",
      " [0. 0. 0. 0. 0. 1.]]\n",
      "t= 7\n",
      "[[0. 0. 0. 0. 0. 0.]\n",
      " [0. 0. 0. 0. 0. 0.]\n",
      " [0. 0. 0. 0. 0. 0.]]\n",
      "t= 0\n",
      "[[0.         0.         0.         0.         0.         0.        ]\n",
      " [0.38771552 0.38771552 0.38771552 0.38771552 0.38771552 0.38771552]\n",
      " [0.         0.         0.         0.         0.         0.        ]]\n",
      "t= 1\n",
      "[[0.         0.         0.         0.         0.         0.        ]\n",
      " [0.38771552 0.38771552 0.38771552 0.38771552 0.38771552 0.38771552]\n",
      " [0.         0.         0.         0.         0.         0.        ]]\n",
      "t= 2\n",
      "[[0.         0.         0.         0.         0.         0.        ]\n",
      " [0.38771552 0.38771552 0.38771552 0.38771552 0.38771552 0.38771552]\n",
      " [0.         0.         0.         0.         0.         0.        ]]\n",
      "t= 3\n",
      "[[0.         0.         0.         0.         0.         0.        ]\n",
      " [0.38771552 0.38771552 0.38771552 0.38771552 0.38771552 0.38771552]\n",
      " [0.         0.         0.         0.         0.         0.        ]]\n",
      "t= 4\n",
      "[[0.         0.         0.         0.         0.         0.        ]\n",
      " [0.38771552 0.38771552 0.38771552 0.38771552 0.38771552 0.38771552]\n",
      " [0.         0.         0.         0.         0.         0.        ]]\n",
      "t= 5\n",
      "[[0. 0. 0. 0. 0. 0.]\n",
      " [0. 0. 0. 0. 0. 0.]\n",
      " [0. 0. 0. 0. 0. 0.]]\n",
      "t= 6\n",
      "[[0. 0. 0. 0. 0. 0.]\n",
      " [0. 0. 0. 0. 0. 0.]\n",
      " [0. 0. 0. 0. 0. 0.]]\n",
      "t= 7\n",
      "[[0. 0. 0. 0. 0. 0.]\n",
      " [0. 0. 0. 0. 0. 0.]\n",
      " [0. 0. 0. 0. 0. 0.]]\n",
      "[1.13484583e-01 1.00000000e-05 1.00000000e-05 1.00000000e-05\n",
      " 2.75592840e-01 1.00000000e-05]\n"
     ]
    }
   ],
   "source": [
    "objp, allocs = primal_solutions(pairing_weights, I, J, T)\n",
    "objd, alphas, betas = dual_solutions(valid_matches,pairing_weights, I, J, T)\n",
    "alpha_viz = make_alpha_viz_representation(valid_matches, alphas, I, T)\n",
    "\n",
    "print(\"primal utility:\",objp)\n",
    "print(\"dual utility:\",objd)\n",
    "\n",
    "validate_allocation(allocs)\n",
    "\n",
    "alpha_viz = make_alpha_viz_representation(valid_matches, alphas, I, T)\n",
    "print_tableau(allocs)\n",
    "print_tableau(alpha_viz)\n",
    "\n",
    "print(betas)"
   ]
  },
  {
   "cell_type": "code",
   "execution_count": 10,
   "metadata": {},
   "outputs": [],
   "source": [
    "pwt = pairing_weights.copy()"
   ]
  },
  {
   "cell_type": "markdown",
   "metadata": {},
   "source": [
    "### Test one. Lets make one resource a little bettter overall"
   ]
  },
  {
   "cell_type": "code",
   "execution_count": 11,
   "metadata": {},
   "outputs": [],
   "source": [
    "pairing_weights[1,:,:] += .58\n",
    "pairing_weights[valid_matches == 0] = -1\n"
   ]
  },
  {
   "cell_type": "code",
   "execution_count": 12,
   "metadata": {
    "scrolled": false
   },
   "outputs": [
    {
     "name": "stdout",
     "output_type": "stream",
     "text": [
      "primal utility: 2.974648960661909\n",
      "dual utility: 2.9746489606619093\n",
      "6.0 out of 6 agents matched\n",
      "3.0 agents have self matched\n",
      "Self-matched agents are:  [1 2 3]\n",
      "t= 0\n",
      "[[0. 0. 0. 0. 0. 0.]\n",
      " [1. 0. 0. 0. 0. 0.]\n",
      " [0. 0. 0. 0. 0. 0.]]\n",
      "t= 1\n",
      "[[0. 0. 0. 0. 0. 0.]\n",
      " [0. 0. 0. 0. 0. 0.]\n",
      " [0. 0. 0. 0. 0. 0.]]\n",
      "t= 2\n",
      "[[0. 0. 0. 0. 0. 0.]\n",
      " [0. 0. 0. 0. 0. 0.]\n",
      " [0. 0. 0. 0. 0. 0.]]\n",
      "t= 3\n",
      "[[0. 1. 1. 0. 0. 0.]\n",
      " [0. 0. 0. 0. 0. 0.]\n",
      " [0. 0. 0. 0. 0. 0.]]\n",
      "t= 4\n",
      "[[0. 0. 0. 0. 0. 0.]\n",
      " [0. 0. 0. 0. 0. 0.]\n",
      " [0. 0. 0. 0. 0. 0.]]\n",
      "t= 5\n",
      "[[0. 0. 0. 1. 0. 0.]\n",
      " [0. 0. 0. 0. 0. 0.]\n",
      " [0. 0. 0. 0. 0. 0.]]\n",
      "t= 6\n",
      "[[0. 0. 0. 0. 0. 0.]\n",
      " [0. 0. 0. 0. 1. 0.]\n",
      " [0. 0. 0. 0. 0. 0.]]\n",
      "t= 7\n",
      "[[0. 0. 0. 0. 0. 0.]\n",
      " [0. 0. 0. 0. 0. 0.]\n",
      " [0. 0. 0. 0. 0. 1.]]\n",
      "t= 0\n",
      "[[0.         0.         0.         0.         0.         0.        ]\n",
      " [0.96771552 0.96771552 0.96771552 0.96771552 0.96771552 0.96771552]\n",
      " [0.         0.         0.         0.         0.         0.        ]]\n",
      "t= 1\n",
      "[[0.         0.         0.         0.         0.         0.        ]\n",
      " [0.96771552 0.96771552 0.96771552 0.96771552 0.96771552 0.96771552]\n",
      " [0.         0.         0.         0.         0.         0.        ]]\n",
      "t= 2\n",
      "[[0.         0.         0.         0.         0.         0.        ]\n",
      " [0.96771552 0.96771552 0.96771552 0.96771552 0.96771552 0.96771552]\n",
      " [0.         0.         0.         0.         0.         0.        ]]\n",
      "t= 3\n",
      "[[0.         0.         0.         0.         0.         0.        ]\n",
      " [0.96771552 0.96771552 0.96771552 0.96771552 0.96771552 0.96771552]\n",
      " [0.         0.         0.         0.         0.         0.        ]]\n",
      "t= 4\n",
      "[[0.         0.         0.         0.         0.         0.        ]\n",
      " [0.96771552 0.96771552 0.96771552 0.96771552 0.96771552 0.96771552]\n",
      " [0.         0.         0.         0.         0.         0.        ]]\n",
      "t= 5\n",
      "[[0. 0. 0. 0. 0. 0.]\n",
      " [0. 0. 0. 0. 0. 0.]\n",
      " [0. 0. 0. 0. 0. 0.]]\n",
      "t= 6\n",
      "[[0. 0. 0. 0. 0. 0.]\n",
      " [0. 0. 0. 0. 0. 0.]\n",
      " [0. 0. 0. 0. 0. 0.]]\n",
      "t= 7\n",
      "[[0. 0. 0. 0. 0. 0.]\n",
      " [0. 0. 0. 0. 0. 0.]\n",
      " [0. 0. 0. 0. 0. 0.]]\n"
     ]
    }
   ],
   "source": [
    "objp, allocs = primal_solutions(pairing_weights, I, J, T)\n",
    "objd, alphas, betas = dual_solutions(valid_matches,pairing_weights, I, J, T)\n",
    "alpha_viz = make_alpha_viz_representation(valid_matches, alphas, I, T)\n",
    "\n",
    "print(\"primal utility:\",objp)\n",
    "print(\"dual utility:\",objd)\n",
    "\n",
    "validate_allocation(allocs)\n",
    "\n",
    "print_tableau(allocs)\n",
    "print_tableau(alpha_viz)"
   ]
  },
  {
   "cell_type": "markdown",
   "metadata": {},
   "source": [
    "### Test two. Lets make an agent a little better overall"
   ]
  },
  {
   "cell_type": "code",
   "execution_count": 25,
   "metadata": {},
   "outputs": [],
   "source": [
    "pairing_weights = pwt.copy()\n",
    "\n",
    "pairing_weights[:,1,:] += 100\n",
    "pairing_weights[valid_matches == 0] = -1\n"
   ]
  },
  {
   "cell_type": "code",
   "execution_count": 30,
   "metadata": {},
   "outputs": [
    {
     "data": {
      "text/plain": [
       "100.28429543866477"
      ]
     },
     "execution_count": 30,
     "metadata": {},
     "output_type": "execute_result"
    }
   ],
   "source": [
    "np.max(pairing_weights)"
   ]
  },
  {
   "cell_type": "code",
   "execution_count": 26,
   "metadata": {},
   "outputs": [
    {
     "name": "stdout",
     "output_type": "stream",
     "text": [
      "primal utility: 101.81464896066193\n",
      "dual utility: 101.81464896066191\n",
      "6.0 out of 6 agents matched\n",
      "3.0 agents have self matched\n",
      "Self-matched agents are:  [1 2 3]\n",
      "t= 0\n",
      "[[0. 0. 0. 0. 0. 0.]\n",
      " [1. 0. 0. 0. 0. 0.]\n",
      " [0. 0. 0. 0. 0. 0.]]\n",
      "t= 1\n",
      "[[0. 0. 0. 0. 0. 0.]\n",
      " [0. 0. 0. 0. 0. 0.]\n",
      " [0. 0. 0. 0. 0. 0.]]\n",
      "t= 2\n",
      "[[0. 0. 0. 0. 0. 0.]\n",
      " [0. 0. 0. 0. 0. 0.]\n",
      " [0. 0. 0. 0. 0. 0.]]\n",
      "t= 3\n",
      "[[0. 1. 1. 0. 0. 0.]\n",
      " [0. 0. 0. 0. 0. 0.]\n",
      " [0. 0. 0. 0. 0. 0.]]\n",
      "t= 4\n",
      "[[0. 0. 0. 0. 0. 0.]\n",
      " [0. 0. 0. 0. 0. 0.]\n",
      " [0. 0. 0. 0. 0. 0.]]\n",
      "t= 5\n",
      "[[0. 0. 0. 1. 0. 0.]\n",
      " [0. 0. 0. 0. 0. 0.]\n",
      " [0. 0. 0. 0. 0. 0.]]\n",
      "t= 6\n",
      "[[0. 0. 0. 0. 0. 0.]\n",
      " [0. 0. 0. 0. 1. 0.]\n",
      " [0. 0. 0. 0. 0. 1.]]\n",
      "t= 7\n",
      "[[0. 0. 0. 0. 0. 0.]\n",
      " [0. 0. 0. 0. 0. 0.]\n",
      " [0. 0. 0. 0. 0. 0.]]\n",
      "t= 0\n",
      "[[0.         0.         0.         0.         0.         0.        ]\n",
      " [0.38771552 0.38771552 0.38771552 0.38771552 0.38771552 0.38771552]\n",
      " [0.         0.         0.         0.         0.         0.        ]]\n",
      "t= 1\n",
      "[[0.         0.         0.         0.         0.         0.        ]\n",
      " [0.38771552 0.38771552 0.38771552 0.38771552 0.38771552 0.38771552]\n",
      " [0.         0.         0.         0.         0.         0.        ]]\n",
      "t= 2\n",
      "[[0.         0.         0.         0.         0.         0.        ]\n",
      " [0.38771552 0.38771552 0.38771552 0.38771552 0.38771552 0.38771552]\n",
      " [0.         0.         0.         0.         0.         0.        ]]\n",
      "t= 3\n",
      "[[0.         0.         0.         0.         0.         0.        ]\n",
      " [0.38771552 0.38771552 0.38771552 0.38771552 0.38771552 0.38771552]\n",
      " [0.         0.         0.         0.         0.         0.        ]]\n",
      "t= 4\n",
      "[[0.         0.         0.         0.         0.         0.        ]\n",
      " [0.38771552 0.38771552 0.38771552 0.38771552 0.38771552 0.38771552]\n",
      " [0.         0.         0.         0.         0.         0.        ]]\n",
      "t= 5\n",
      "[[0. 0. 0. 0. 0. 0.]\n",
      " [0. 0. 0. 0. 0. 0.]\n",
      " [0. 0. 0. 0. 0. 0.]]\n",
      "t= 6\n",
      "[[0. 0. 0. 0. 0. 0.]\n",
      " [0. 0. 0. 0. 0. 0.]\n",
      " [0. 0. 0. 0. 0. 0.]]\n",
      "t= 7\n",
      "[[0. 0. 0. 0. 0. 0.]\n",
      " [0. 0. 0. 0. 0. 0.]\n",
      " [0. 0. 0. 0. 0. 0.]]\n"
     ]
    }
   ],
   "source": [
    "objp, allocs = primal_solutions(pairing_weights, I, J, T)\n",
    "objd, alphas, betas = dual_solutions(valid_matches,pairing_weights, I, J, T)\n",
    "alpha_viz = make_alpha_viz_representation(valid_matches, alphas, I, T)\n",
    "\n",
    "print(\"primal utility:\",objp)\n",
    "print(\"dual utility:\",objd)\n",
    "\n",
    "validate_allocation(allocs)\n",
    "\n",
    "print_tableau(allocs)\n",
    "print_tableau(alpha_viz)"
   ]
  },
  {
   "cell_type": "markdown",
   "metadata": {},
   "source": [
    "# Test performance with suboptimal alphas / betas"
   ]
  },
  {
   "cell_type": "code",
   "execution_count": 443,
   "metadata": {},
   "outputs": [],
   "source": [
    "def plot_performance_curve(epsilon,use_mag=False):\n",
    "\n",
    "    noise_multipliers = np.linspace(0,1,50)\n",
    "    performance = []\n",
    "\n",
    "    for noise_mag in noise_multipliers:\n",
    "        alphas_tmp = alphas + np.random.uniform(low=-1.0*noise_mag, high=1.0*noise_mag, size=alphas.shape)\n",
    "        betas_tmp = betas + np.random.uniform(low=-1.0*noise_mag, high=1.0*noise_mag, size=betas.shape)\n",
    "        \n",
    "        if use_mag:\n",
    "            epsilon = noise_mag\n",
    "        \n",
    "        objo, _ = online_matching(I,J,T,alphas_tmp,betas_tmp,valid_matches,pairing_weights, epsilon)\n",
    "\n",
    "        performance.append(objo)\n",
    "    return np.array(performance)"
   ]
  },
  {
   "cell_type": "code",
   "execution_count": 477,
   "metadata": {},
   "outputs": [
    {
     "data": {
      "text/plain": [
       "[<matplotlib.lines.Line2D at 0x1021661f28>]"
      ]
     },
     "execution_count": 477,
     "metadata": {},
     "output_type": "execute_result"
    },
    {
     "data": {
      "image/png": "[encoded data removed]",
      "text/plain": [
       "<Figure size 432x288 with 1 Axes>"
      ]
     },
     "metadata": {
      "needs_background": "light"
     },
     "output_type": "display_data"
    }
   ],
   "source": [
    "r0 = plot_performance_curve(.1)\n",
    "plt.plot(r0)"
   ]
  },
  {
   "cell_type": "code",
   "execution_count": 478,
   "metadata": {},
   "outputs": [
    {
     "data": {
      "text/plain": [
       "[<matplotlib.lines.Line2D at 0x10216f6518>]"
      ]
     },
     "execution_count": 478,
     "metadata": {},
     "output_type": "execute_result"
    },
    {
     "data": {
      "image/png": "[encoded data removed]",
      "text/plain": [
       "<Figure size 432x288 with 1 Axes>"
      ]
     },
     "metadata": {
      "needs_background": "light"
     },
     "output_type": "display_data"
    }
   ],
   "source": [
    "r1 = plot_performance_curve(.01)\n",
    "plt.plot(r1)"
   ]
  },
  {
   "cell_type": "code",
   "execution_count": 479,
   "metadata": {},
   "outputs": [
    {
     "data": {
      "text/plain": [
       "[<matplotlib.lines.Line2D at 0x102172ecc0>]"
      ]
     },
     "execution_count": 479,
     "metadata": {},
     "output_type": "execute_result"
    },
    {
     "data": {
      "image/png": "[encoded data removed]",
      "text/plain": [
       "<Figure size 432x288 with 1 Axes>"
      ]
     },
     "metadata": {
      "needs_background": "light"
     },
     "output_type": "display_data"
    }
   ],
   "source": [
    "r2 = plot_performance_curve(.001)\n",
    "plt.plot(r2)"
   ]
  },
  {
   "cell_type": "code",
   "execution_count": 482,
   "metadata": {},
   "outputs": [
    {
     "data": {
      "text/plain": [
       "[<matplotlib.lines.Line2D at 0x10251acdd8>]"
      ]
     },
     "execution_count": 482,
     "metadata": {},
     "output_type": "execute_result"
    },
    {
     "data": {
      "image/png": "[encoded data removed]",
      "text/plain": [
       "<Figure size 432x288 with 1 Axes>"
      ]
     },
     "metadata": {
      "needs_background": "light"
     },
     "output_type": "display_data"
    }
   ],
   "source": [
    "r3 = plot_performance_curve(0,use_mag=True)\n",
    "plt.plot(r3)"
   ]
  },
  {
   "cell_type": "code",
   "execution_count": null,
   "metadata": {},
   "outputs": [],
   "source": []
  }
 ],
 "metadata": {
  "kernelspec": {
   "display_name": "Python 3",
   "language": "python",
   "name": "python3"
  },
  "language_info": {
   "codemirror_mode": {
    "name": "ipython",
    "version": 3
   },
   "file_extension": ".py",
   "mimetype": "text/x-python",
   "name": "python",
   "nbconvert_exporter": "python",
   "pygments_lexer": "ipython3",
   "version": "3.7.3"
  }
 },
 "nbformat": 4,
 "nbformat_minor": 2
}
