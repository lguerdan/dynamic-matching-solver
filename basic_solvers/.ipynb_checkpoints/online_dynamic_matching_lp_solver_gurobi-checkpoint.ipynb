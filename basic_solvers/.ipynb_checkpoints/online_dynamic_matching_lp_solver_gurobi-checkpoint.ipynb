{
 "cells": [
  {
   "cell_type": "code",
   "execution_count": 3,
   "metadata": {},
   "outputs": [],
   "source": [
    "from scipy.optimize import linprog\n",
    "import numpy as np\n",
    "import pickle\n",
    "import pandas as pd\n",
    "import matplotlib.pyplot as plt\n",
    "\n",
    "from gurobi import *"
   ]
  },
  {
   "cell_type": "markdown",
   "metadata": {},
   "source": [
    "### Define some utility pairings based on a scenario"
   ]
  },
  {
   "cell_type": "code",
   "execution_count": 88,
   "metadata": {},
   "outputs": [],
   "source": [
    "def generate_utility_pairings(I,T):\n",
    "    '''Create a dummy scenario statisfying valid weight properties'''\n",
    "    impatient = np.random.rand(T,I+1) \n",
    "    patient = np.random.rand(I,I+1)\n",
    "    \n",
    "    patient[:,0] = -1\n",
    "    \n",
    "    #make a few paris non-compatible\n",
    "    pairing_weights = np.concatenate((impatient, patient), axis=0)\n",
    "    for i in range(I+T):\n",
    "        i,j = np.random.randint(0,I+T), np.random.randint(1,I+1)\n",
    "        pairing_weights[i,j] = -1\n",
    "    \n",
    "    #make patient-patient pairings symmetric\n",
    "    pairing_weights[T:,1:] = np.maximum(pairing_weights[T:,1:], pairing_weights[T:,1:].T)\n",
    "    pairing_weights[T:,1:][np.eye(I,dtype=bool)] = -1\n",
    "    \n",
    "    return pairing_weights"
   ]
  },
  {
   "cell_type": "markdown",
   "metadata": {},
   "source": [
    "### Now define several functions to convert our problem formulation to standard matrix form"
   ]
  },
  {
   "cell_type": "code",
   "execution_count": 117,
   "metadata": {},
   "outputs": [],
   "source": [
    "def make_primal_constraint_matrix(I, T, c_len, pairing_weights):\n",
    "    constraints = np.zeros((T*I+I, c_len))\n",
    "    for a in range(0, T):\n",
    "        for b in range(0,I):\n",
    "            constraint = np.zeros(pairing_weights.shape)\n",
    "            constraint[a, :] = 1\n",
    "            constraint[:,b+1] = 1\n",
    "            constraints[a*I+b,:] = constraint.reshape(constraint.shape[0] * constraint.shape[1])\n",
    "\n",
    "    for B in range(0, I):\n",
    "        constraint = np.zeros(pairing_weights.shape)\n",
    "        constraint[B+T, 1:] += 1\n",
    "        constraint[:, B+1] += 1\n",
    "        constraints[T*I+B,:] = constraint.reshape(constraint.shape[0] * constraint.shape[1])\n",
    "    \n",
    "    return constraints\n",
    "\n"
   ]
  },
  {
   "cell_type": "code",
   "execution_count": 90,
   "metadata": {},
   "outputs": [],
   "source": [
    "T = 2 #impatient agents\n",
    "I = 2 #patient agents\n",
    "\n",
    "pairing_weights = generate_utility_pairings(I,T)\n",
    "\n",
    "\n",
    "c = -1 * pairing_weights.reshape(pairing_weights.shape[0] * pairing_weights.shape[1])\n",
    "constraints = make_primal_constraint_matrix(I, T, len(c), pairing_weights)\n",
    "b = np.ones((constraints.shape[0],1))"
   ]
  },
  {
   "cell_type": "markdown",
   "metadata": {},
   "source": [
    "### Scipy solvers "
   ]
  },
  {
   "cell_type": "code",
   "execution_count": 36,
   "metadata": {},
   "outputs": [],
   "source": [
    "def calculate_primal_solns_scipy(pairing_weights, I, T):\n",
    "\n",
    "    c = -1 * pairing_weights.reshape(pairing_weights.shape[0] * pairing_weights.shape[1])\n",
    "    constraints = make_primal_constraint_matrix(I, T, len(c), pairing_weights)\n",
    "    b = np.ones((constraints.shape[0],1))\n",
    "\n",
    "    solved_program = linprog(c, constraints, b)\n",
    "    pairings = solved_program.x.reshape(pairing_weights.shape)\n",
    "    utility_p = -1 * solved_program.fun\n",
    "    \n",
    "    return utility_p, pairings\n",
    "\n",
    "def calculate_dual_solns_scipy(pairing_weights, I, T):\n",
    "\n",
    "    constraints_d, inequalities_d = make_dual_constraint_matrix(I, T, pairing_weights)\n",
    "    c_d = np.ones((T+I))\n",
    "\n",
    "    solved_program = linprog(c_d, constraints_d, inequalities_d)\n",
    "    coefficients = solved_program.x\n",
    "    utility_d = solved_program.fun\n",
    "    \n",
    "    if solved_program.success == False:\n",
    "        print(solved_program.message)\n",
    "    \n",
    "    return utility_d, coefficients"
   ]
  },
  {
   "cell_type": "markdown",
   "metadata": {},
   "source": [
    "### Find optimal pairings & utility based on the primal. Find optimal coefficients & utility based on the dual"
   ]
  },
  {
   "cell_type": "code",
   "execution_count": 37,
   "metadata": {},
   "outputs": [],
   "source": [
    "def in_constraint(v):\n",
    "    if v[1]:\n",
    "        return True\n",
    "    else:\n",
    "        return False\n",
    "\n",
    "def calculate_primal_solns_gurobi(pairing_weights, I, T):\n",
    "    m = Model(\"dynamicmatch_primal\")\n",
    "    m.modelSense = GRB.MAXIMIZE\n",
    "    m.setParam( 'OutputFlag', False )\n",
    "\n",
    "    weights = pairing_weights.reshape(pairing_weights.shape[0] * pairing_weights.shape[1])\n",
    "    c = -1 * pairing_weights.reshape(pairing_weights.shape[0] * pairing_weights.shape[1])\n",
    "    constraints = make_primal_constraint_matrix(I, T, len(weights), pairing_weights)\n",
    "\n",
    "\n",
    "    keys = range(constraints.shape[1])\n",
    "    variables = m.addVars(keys,\n",
    "                    vtype=GRB.CONTINUOUS,\n",
    "                     obj=weights,\n",
    "                     name=\"primal\",\n",
    "                     lb=0)\n",
    "\n",
    "    for constraint in constraints:\n",
    "        m.addConstr(sum(variables[o]*c for o,c in filter(in_constraint, zip(variables,constraint))) <= 1)\n",
    "    \n",
    "\n",
    "    m.optimize()\n",
    "    allocations = np.array([variables[var].X for var in variables]).reshape(pairing_weights.shape)\n",
    "    m.write('constraint.lp')\n",
    "\n",
    "    return m.objVal, allocations\n",
    "\n",
    "def calculate_dual_solns_gurobi(pairing_weights, I, T):\n",
    "\n",
    "    md = Model(\"dynamicmatch_dual\")\n",
    "    md.modelSense = GRB.MINIMIZE\n",
    "    md.setParam( 'OutputFlag', False )\n",
    "    \n",
    "    md.setParam( 'OutputFlag', False )\n",
    "    constraints_d, inequalities_d = make_dual_constraint_matrix(I, T, pairing_weights)\n",
    "    c_d = np.ones((T+I))\n",
    "\n",
    "    keys = range(constraints_d.shape[1])\n",
    "    variables = md.addVars(keys,\n",
    "                    vtype=GRB.CONTINUOUS,\n",
    "                    obj=c_d,\n",
    "                    name=\"dual\",\n",
    "                    lb=0)\n",
    "\n",
    "    for cix, constraint in enumerate(constraints_d):\n",
    "        md.addConstr(sum(variables[o]*c for o,c in filter(in_constraint, zip(variables,constraint))) <= inequalities_d[cix])\n",
    "\n",
    "    md.optimize()\n",
    "\n",
    "    betas = np.array([variables[var].X for var in variables][T:])\n",
    "    betas = np.insert(betas, 0, 0)\n",
    "    alphas = np.array([variables[var].X for var in variables][:T])\n",
    "    return md.objVal, alphas, betas"
   ]
  },
  {
   "cell_type": "markdown",
   "metadata": {},
   "source": [
    "# Implement online assignment algorithm"
   ]
  },
  {
   "cell_type": "markdown",
   "metadata": {},
   "source": [
    "# Running the solvers"
   ]
  },
  {
   "cell_type": "code",
   "execution_count": 113,
   "metadata": {},
   "outputs": [],
   "source": [
    "T = 5 #impatient agents\n",
    "I = 3 #patient agents\n",
    "\n",
    "pairing_weights = generate_utility_pairings(I,T)"
   ]
  },
  {
   "cell_type": "markdown",
   "metadata": {},
   "source": [
    "### Gurobi solver"
   ]
  },
  {
   "cell_type": "code",
   "execution_count": 118,
   "metadata": {},
   "outputs": [
    {
     "name": "stdout",
     "output_type": "stream",
     "text": [
      "2.1990911504220616\n",
      "[[0.66666667 0.         0.         0.        ]\n",
      " [0.66666667 0.         0.         0.        ]\n",
      " [0.66666667 0.         0.         0.        ]\n",
      " [0.66666667 0.         0.         0.        ]\n",
      " [0.66666667 0.         0.         0.        ]\n",
      " [0.         0.         0.33333333 0.33333333]\n",
      " [0.         0.         0.         0.        ]\n",
      " [0.         0.33333333 0.         0.        ]]\n"
     ]
    }
   ],
   "source": [
    "upg, pairingg = calculate_primal_solns_gurobi(pairing_weights, I, T)\n",
    "# udg, alphas, betas = calculate_dual_solns_gurobi(pairing_weights, I, T)\n",
    "\n",
    "print(upg)\n",
    "print(pairingg)"
   ]
  },
  {
   "cell_type": "code",
   "execution_count": 87,
   "metadata": {},
   "outputs": [
    {
     "name": "stdout",
     "output_type": "stream",
     "text": [
      "2.605653480974901\n",
      "[[1. 0. 0. 0.]\n",
      " [0. 0. 0. 1.]\n",
      " [1. 0. 0. 0.]\n",
      " [0. 0. 1. 0.]\n",
      " [0. 0. 0. 0.]\n",
      " [0. 0. 0. 0.]]\n"
     ]
    }
   ],
   "source": [
    "upg, pairingg = calculate_primal_solns_gurobi(pairing_weights, I, T)\n",
    "# udg, alphas, betas = calculate_dual_solns_gurobi(pairing_weights, I, T)\n",
    "\n",
    "print(upg)\n",
    "print(pairingg)"
   ]
  },
  {
   "cell_type": "markdown",
   "metadata": {},
   "source": [
    "### Scipy solver"
   ]
  },
  {
   "cell_type": "code",
   "execution_count": 108,
   "metadata": {},
   "outputs": [
    {
     "name": "stdout",
     "output_type": "stream",
     "text": [
      "1.9160315086884125\n",
      "1.9160315086884125\n",
      "[[1.  0.  0.  0. ]\n",
      " [1.  0.  0.  0. ]\n",
      " [1.  0.  0.  0. ]\n",
      " [0.  0.5 0.  0. ]\n",
      " [0.  0.  0.  1. ]\n",
      " [0.  0.  0.  0. ]]\n"
     ]
    }
   ],
   "source": [
    "utility_p, pairings = calculate_primal_solns_scipy(pairing_weights, I, T)\n",
    "utility_d, coeffs = calculate_dual_solns_scipy(pairing_weights, I, T)\n",
    "print(utility_d)\n",
    "print(utility_p)\n",
    "print(pairings)"
   ]
  },
  {
   "cell_type": "markdown",
   "metadata": {},
   "source": [
    "# Testing\n",
    "- Iterate over different patient/impatient scenarios and validate primal & dual produce same utility"
   ]
  },
  {
   "cell_type": "markdown",
   "metadata": {},
   "source": [
    "### Check that primal and dual solutions generated by Gurobi are equivilant"
   ]
  },
  {
   "cell_type": "code",
   "execution_count": null,
   "metadata": {},
   "outputs": [],
   "source": [
    "for R in range(30,50):\n",
    "    for S in range(30,50):\n",
    "        pairing_weights = generate_utility_pairings(R,S)\n",
    "        utility_1, _ = calculate_primal_solns_gurobi(pairing_weights, R, S)\n",
    "        utility_2, _ = calculate_dual_solns_gurobi(pairing_weights, R, S)\n",
    "        assert round(utility_1, 11) == round(utility_2, 11), \"Dual and Primal solutions are not equivilant\""
   ]
  },
  {
   "cell_type": "markdown",
   "metadata": {},
   "source": [
    "### Check online dual assignment solution"
   ]
  },
  {
   "cell_type": "markdown",
   "metadata": {},
   "source": [
    "Run several simple simulations to see how frequent ties are, and the discrepancy from the optimal utility\n",
    "\n",
    "- Between 30 and 40 patient agents (increments of 5)\n",
    "- Between 30 and 40 impatient agents"
   ]
  },
  {
   "cell_type": "code",
   "execution_count": 361,
   "metadata": {},
   "outputs": [],
   "source": [
    "utility_discrepencies = []\n",
    "nties = []\n",
    "\n",
    "for R in range(30,50,5):\n",
    "    for S in range(30,40):\n",
    "        pairing_weights = generate_utility_pairings(R,S)\n",
    "        utility_g, alphas, betas = calculate_dual_solns_gurobi(pairing_weights, R, S)\n",
    "        utility_o, _, ties = online_dual_assignment(alphas, betas, pairing_weights, R, S)\n",
    "        \n",
    "        diff = np.abs(utility_g - utility_o) / ((utility_g + utility_o) / 2) * 100\n",
    "        \n",
    "        utility_discrepencies.append(diff)\n",
    "        nties.append(ties)\n",
    "        \n",
    "        assert utility_g > utility_o, \"Online utility is greater than optimal\"\n",
    "        assert utility_g == utility_o or ties > 0, \"Utility does not match, but there are no ties\"\n",
    "                     "
   ]
  },
  {
   "cell_type": "markdown",
   "metadata": {},
   "source": [
    "### Number of ties being generated in various scenarios"
   ]
  },
  {
   "cell_type": "code",
   "execution_count": 362,
   "metadata": {},
   "outputs": [
    {
     "name": "stdout",
     "output_type": "stream",
     "text": [
      "Average number of ties:  11.775\n"
     ]
    },
    {
     "data": {
      "image/png": "[encoded data removed]",
      "text/plain": [
       "<Figure size 432x288 with 1 Axes>"
      ]
     },
     "metadata": {
      "needs_background": "light"
     },
     "output_type": "display_data"
    }
   ],
   "source": [
    "print('Average number of ties: ', np.mean(nties))\n",
    "\n",
    "f = plt.figure()\n",
    "plt.hist(nties)\n",
    "plt.gca().set(title='Number of ties being generated', ylabel='Freq',xlabel='Ties');"
   ]
  },
  {
   "cell_type": "code",
   "execution_count": 363,
   "metadata": {},
   "outputs": [
    {
     "name": "stdout",
     "output_type": "stream",
     "text": [
      "Average percent difference between optimal and allocated utility: 2.465668050444207%\n"
     ]
    },
    {
     "data": {
      "image/png": "[encoded data removed]",
      "text/plain": [
       "<Figure size 432x288 with 1 Axes>"
      ]
     },
     "metadata": {
      "needs_background": "light"
     },
     "output_type": "display_data"
    }
   ],
   "source": [
    "print(\"Average percent difference between optimal and allocated utility: {}%\".format(np.mean(utility_discrepencies)))\n",
    "\n",
    "plt.hist(utility_discrepencies)\n",
    "plt.gca().set(title='Percent difference between optimal and allocated utility', ylabel='Freq',xlabel='% diff');"
   ]
  }
 ],
 "metadata": {
  "kernelspec": {
   "display_name": "Python 3",
   "language": "python",
   "name": "python3"
  },
  "language_info": {
   "codemirror_mode": {
    "name": "ipython",
    "version": 3
   },
   "file_extension": ".py",
   "mimetype": "text/x-python",
   "name": "python",
   "nbconvert_exporter": "python",
   "pygments_lexer": "ipython3",
   "version": "3.7.3"
  }
 },
 "nbformat": 4,
 "nbformat_minor": 2
}
