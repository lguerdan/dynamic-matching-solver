{
 "cells": [
  {
   "cell_type": "code",
   "execution_count": 276,
   "metadata": {},
   "outputs": [],
   "source": [
    "from scipy.optimize import linprog\n",
    "import numpy as np\n",
    "import pickle"
   ]
  },
  {
   "cell_type": "markdown",
   "metadata": {},
   "source": [
    "### First define some utility pairings based on a scenario"
   ]
  },
  {
   "cell_type": "code",
   "execution_count": 108,
   "metadata": {},
   "outputs": [],
   "source": [
    "def generate_utility_pairings(I,T):\n",
    "    '''Create a dummy scenario statisfying valid weight properties'''\n",
    "    impatient = np.random.rand(T,I+1)\n",
    "    patient = np.random.rand(I,I+1)\n",
    "    \n",
    "    patient[:,0] = 0\n",
    "    #make a few paris non-compatible\n",
    "    pairing_weights = np.concatenate((impatient, patient), axis=0)\n",
    "    for i in range(I+T):\n",
    "        i,j = np.random.randint(0,I+T), np.random.randint(1,I+1)\n",
    "        pairing_weights[i,j] = 0\n",
    "    \n",
    "    #make patient-patient pairings symmetric\n",
    "    pairing_weights[T:,1:] = np.maximum(pairing_weights[T:,1:], pairing_weights[T:,1:].T)\n",
    "    \n",
    "    return pairing_weights"
   ]
  },
  {
   "cell_type": "code",
   "execution_count": 283,
   "metadata": {},
   "outputs": [],
   "source": [
    "T = 5 #impatient agents\n",
    "I = 5 #patient agents\n",
    "\n",
    "pairing_weights = generate_utility_pairings(I,T)"
   ]
  },
  {
   "cell_type": "markdown",
   "metadata": {},
   "source": [
    "### Now define several functions to convert our problem formulation to standard matrix form"
   ]
  },
  {
   "cell_type": "code",
   "execution_count": 189,
   "metadata": {},
   "outputs": [],
   "source": [
    "def make_primal_constraint_matrix(I, T, c_len, pairing_weights):\n",
    "    constraints = np.zeros((T+I, c_len))\n",
    "    \n",
    "    for a in range(0, T):\n",
    "        constraint = np.zeros(pairing_weights.shape)\n",
    "        constraint[a, :] = 1\n",
    "        constraints[a,:] = constraint.reshape(constraint.shape[0] * constraint.shape[1])\n",
    "    \n",
    "    for B in range(0, I):\n",
    "        constraint = np.zeros(pairing_weights.shape)\n",
    "        constraint[B+T, 1:] += 1\n",
    "        constraint[:, B+1] += 1\n",
    "        constraints[B+T,:] = constraint.reshape(constraint.shape[0] * constraint.shape[1])\n",
    "    \n",
    "    return constraints\n",
    "\n",
    "def make_dual_constraint_matrix(I, T, pairing_weights):\n",
    "    constraints = np.zeros(((I+1)*T+I*I, T+I))\n",
    "    inequalities = np.zeros(((I+1)*T+I*I,1))\n",
    "    cix = 0\n",
    "    \n",
    "    #impatient constraints\n",
    "    for t in range(T):    \n",
    "        bixs = [i for i in range(T,T+I)]\n",
    "        bixs.insert(0,t)\n",
    "        \n",
    "        for ix, i in enumerate(bixs): \n",
    "            constraints[cix, t] = -1\n",
    "            constraints[cix,i] = -1\n",
    "            inequalities[cix] = -1 * pairing_weights[t, ix]\n",
    "            cix += 1\n",
    "            \n",
    "    #patient constraints\n",
    "    for i in range(I):    \n",
    "        for j in range(I):\n",
    "            constraints[cix, T+i] -= 1\n",
    "            constraints[cix, T+j] -= 1\n",
    "            inequalities[cix] = -1 * pairing_weights[T+i, j+1]\n",
    "            cix += 1\n",
    "\n",
    "    return constraints, inequalities"
   ]
  },
  {
   "cell_type": "markdown",
   "metadata": {},
   "source": [
    "### Find optimal pairings & utility based on the primal. Find optimal coefficients & utility based on the dual"
   ]
  },
  {
   "cell_type": "code",
   "execution_count": 119,
   "metadata": {},
   "outputs": [],
   "source": [
    "def calculate_primal_solns(pairing_weights, I, T):\n",
    "\n",
    "    c = -1 * pairing_weights.reshape(pairing_weights.shape[0] * pairing_weights.shape[1])\n",
    "    constraints = make_primal_constraint_matrix(I, T, len(c), pairing_weights)\n",
    "    b = np.ones((constraints.shape[0],1))\n",
    "\n",
    "    solved_program = linprog(c, constraints, b)\n",
    "    pairings = solved_program.x.reshape(pairing_weights.shape)\n",
    "    utility_p = -1 * solved_program.fun\n",
    "    \n",
    "    return utility_p, pairings\n",
    "\n",
    "def calculate_dual_solns(pairing_weights, I, T):\n",
    "\n",
    "    constraints_d, inequalities_d = make_dual_constraint_matrix(I, T, pairing_weights)\n",
    "    c_d = np.ones((T+I))\n",
    "\n",
    "    solved_program = linprog(c_d, constraints_d, inequalities_d)\n",
    "    coefficients = solved_program.x\n",
    "    utility_d = solved_program.fun\n",
    "    \n",
    "    return utility_d, coefficients"
   ]
  },
  {
   "cell_type": "markdown",
   "metadata": {},
   "source": [
    "### Assert utility found in primal & dual are equivalent (to precision error)"
   ]
  },
  {
   "cell_type": "code",
   "execution_count": 282,
   "metadata": {},
   "outputs": [
    {
     "name": "stdout",
     "output_type": "stream",
     "text": [
      "4.830500111372682\n",
      "4.830500111372682\n"
     ]
    },
    {
     "data": {
      "text/plain": [
       "True"
      ]
     },
     "execution_count": 282,
     "metadata": {},
     "output_type": "execute_result"
    }
   ],
   "source": [
    "utility_p, _ = calculate_primal_solns(pairing_weights, I, T)\n",
    "utility_d, _ = calculate_dual_solns(pairing_weights, I, T)\n",
    "\n",
    "print(utility_d)\n",
    "print(utility_p)\n",
    "\n",
    "utility_d == utility_p\n",
    "\n",
    "# assert round(utility_d, 10) == round(utility_p, 10), \"Dual and Primal solutions are not equivilant\""
   ]
  },
  {
   "cell_type": "markdown",
   "metadata": {},
   "source": [
    "# Testing\n",
    "- Iterate over different patient/impatient scenarios and validate primal & dual produce same utility"
   ]
  },
  {
   "cell_type": "code",
   "execution_count": 278,
   "metadata": {},
   "outputs": [],
   "source": [
    "for R in range(1,10):\n",
    "    for S in range(1,10):\n",
    "        pairing_weights = generate_utility_pairings(R,S)\n",
    "        utility_1, _ = calculate_primal_solns(pairing_weights, R, S)\n",
    "        utility_2, _ = calculate_dual_solns(pairing_weights, R, S)\n",
    "        assert round(utility_1, 10) == round(utility_2, 10), \"Dual and Primal solutions are not equivilant\""
   ]
  },
  {
   "cell_type": "markdown",
   "metadata": {},
   "source": [
    "### Implement online assignment algorithm and check solution"
   ]
  },
  {
   "cell_type": "code",
   "execution_count": 273,
   "metadata": {},
   "outputs": [],
   "source": [
    "def online_dual_assignment(betas, pairing_weights, I, T):\n",
    "    betas = np.insert(betas, 0,0)\n",
    "    II = [i for i in range(I+1)]\n",
    "    II_membership = np.ones((I+1), np.bool)\n",
    "    matches = []\n",
    "    \n",
    "    for t in range(0,T):\n",
    "        shaddow_pairings = pairing_weights[t, :] - betas\n",
    "        shaddow_pairings[~II_membership] = -1\n",
    "        io = np.argmax(shaddow_pairings)\n",
    "        \n",
    "        if io == 0:\n",
    "            matches.append((t,0))\n",
    "        else:\n",
    "            matches.append((t, io))\n",
    "            II_membership[io] = 0\n",
    "            \n",
    "    for j in range(1,I+1):\n",
    "        if II_membership[j]:\n",
    "            II_membership_tmp = II_membership.copy()\n",
    "            II_membership_tmp[j] = 0\n",
    "            print('Weights:')\n",
    "            print(pairing_weights[T+j-1, :])\n",
    "            print('Betas')\n",
    "            print(betas)\n",
    "\n",
    "            shaddow_pairings = pairing_weights[T+j-1, :] - betas\n",
    "            shaddow_pairings[~II_membership_tmp] = -1\n",
    "            print('Weights - betas')\n",
    "            print(shaddow_pairings)\n",
    "            \n",
    "            io = np.argmax(shaddow_pairings)\n",
    "\n",
    "            if io != 0:\n",
    "                matches.append((T+j-1, io))\n",
    "                II_membership[io] = 0\n",
    "            \n",
    "            break\n",
    "         \n",
    "    pairings = np.zeros(pairing_weights.shape)\n",
    "    utility = 0\n",
    "    for match in matches:\n",
    "        pairings[match[0], match[1]] = 1\n",
    "        utility += pairing_weights[match[0], match[1]]\n",
    "                \n",
    "    return utility, pairings\n",
    "    "
   ]
  },
  {
   "cell_type": "code",
   "execution_count": 226,
   "metadata": {},
   "outputs": [],
   "source": [
    "T = 5 #impatient agents\n",
    "I = 5 #patient agents\n",
    "\n",
    "# pairing_weights = generate_utility_pairings(I,T)"
   ]
  },
  {
   "cell_type": "code",
   "execution_count": 277,
   "metadata": {},
   "outputs": [],
   "source": [
    "pickleFile = open(\"debuginstance.txt\", 'wb')\n",
    "pickle.dump(pairing_weights, pickleFile)\n",
    "pickleFile.close()"
   ]
  },
  {
   "cell_type": "code",
   "execution_count": 285,
   "metadata": {},
   "outputs": [
    {
     "data": {
      "text/plain": [
       "array([[0.06799762, 0.76122642, 0.99577902, 0.24130629, 0.46976927,\n",
       "        0.11021857],\n",
       "       [0.10810557, 0.8030332 , 0.        , 0.5311666 , 0.96972489,\n",
       "        0.3549381 ],\n",
       "       [0.39339933, 0.3973132 , 0.46651218, 0.42004426, 0.89323478,\n",
       "        0.47955169],\n",
       "       [0.08387418, 0.        , 0.        , 0.        , 0.92890696,\n",
       "        0.25040304],\n",
       "       [0.03482951, 0.92624859, 0.52419646, 0.        , 0.0875872 ,\n",
       "        0.20074078],\n",
       "       [0.        , 0.56272317, 0.19681606, 0.24800205, 0.64391739,\n",
       "        0.68286184],\n",
       "       [0.        , 0.19681606, 0.30832998, 0.99882046, 0.71220159,\n",
       "        0.6560531 ],\n",
       "       [0.        , 0.24800205, 0.99882046, 0.77014179, 0.9719364 ,\n",
       "        0.66701274],\n",
       "       [0.        , 0.64391739, 0.71220159, 0.9719364 , 0.14205   ,\n",
       "        0.8580919 ],\n",
       "       [0.        , 0.68286184, 0.6560531 , 0.66701274, 0.8580919 ,\n",
       "        0.        ]])"
      ]
     },
     "execution_count": 285,
     "metadata": {},
     "output_type": "execute_result"
    }
   ],
   "source": [
    "pairing_weights"
   ]
  },
  {
   "cell_type": "code",
   "execution_count": 284,
   "metadata": {},
   "outputs": [
    {
     "data": {
      "text/plain": [
       "array([[0.06799762, 0.76122642, 0.99577902, 0.24130629, 0.46976927,\n",
       "        0.11021857],\n",
       "       [0.10810557, 0.8030332 , 0.        , 0.5311666 , 0.96972489,\n",
       "        0.3549381 ],\n",
       "       [0.39339933, 0.3973132 , 0.46651218, 0.42004426, 0.89323478,\n",
       "        0.47955169],\n",
       "       [0.08387418, 0.        , 0.        , 0.        , 0.92890696,\n",
       "        0.25040304],\n",
       "       [0.03482951, 0.92624859, 0.52419646, 0.        , 0.0875872 ,\n",
       "        0.20074078],\n",
       "       [0.        , 0.56272317, 0.19681606, 0.24800205, 0.64391739,\n",
       "        0.68286184],\n",
       "       [0.        , 0.19681606, 0.30832998, 0.99882046, 0.71220159,\n",
       "        0.6560531 ],\n",
       "       [0.        , 0.24800205, 0.99882046, 0.77014179, 0.9719364 ,\n",
       "        0.66701274],\n",
       "       [0.        , 0.64391739, 0.71220159, 0.9719364 , 0.14205   ,\n",
       "        0.8580919 ],\n",
       "       [0.        , 0.68286184, 0.6560531 , 0.66701274, 0.8580919 ,\n",
       "        0.        ]])"
      ]
     },
     "execution_count": 284,
     "metadata": {},
     "output_type": "execute_result"
    }
   ],
   "source": [
    "pairing_weights"
   ]
  },
  {
   "cell_type": "code",
   "execution_count": 274,
   "metadata": {},
   "outputs": [
    {
     "name": "stdout",
     "output_type": "stream",
     "text": [
      "Weights:\n",
      "[0.         0.15315055 0.65299646 0.78726059 0.         0.97351918]\n",
      "Betas\n",
      "[0.         0.54760964 0.57348761 0.21377299 0.63911769 0.40003157]\n",
      "Weights - betas\n",
      "[ 0.         -1.         -1.          0.57348761 -0.63911769  0.57348761]\n",
      "Optimal allocations from primal\n",
      "[[1. 0. 0. 0. 0. 0.]\n",
      " [0. 1. 0. 0. 0. 0.]\n",
      " [1. 0. 0. 0. 0. 0.]\n",
      " [1. 0. 0. 0. 0. 0.]\n",
      " [1. 0. 0. 0. 0. 0.]\n",
      " [0. 0. 0. 0. 0. 0.]\n",
      " [0. 0. 0. 0. 0. 1.]\n",
      " [0. 0. 0. 0. 1. 0.]\n",
      " [0. 0. 0. 0. 0. 0.]\n",
      " [0. 0. 0. 0. 0. 0.]]\n",
      "Online allocations\n",
      "[[1. 0. 0. 0. 0. 0.]\n",
      " [0. 1. 0. 0. 0. 0.]\n",
      " [1. 0. 0. 0. 0. 0.]\n",
      " [1. 0. 0. 0. 0. 0.]\n",
      " [1. 0. 0. 0. 0. 0.]\n",
      " [0. 0. 0. 0. 0. 0.]\n",
      " [0. 0. 0. 1. 0. 0.]\n",
      " [0. 0. 0. 0. 0. 0.]\n",
      " [0. 0. 0. 0. 0. 0.]\n",
      " [0. 0. 0. 0. 0. 0.]]\n",
      "\n",
      "Primal utility\n",
      "5.116956110655744\n",
      "Online utility\n",
      "4.0778068486109245\n"
     ]
    }
   ],
   "source": [
    "#Get knowlege of optimal Bis\n",
    "up, pairings_actual = calculate_primal_solns(pairing_weights, I, T)\n",
    "ud, coeffs = calculate_dual_solns(pairing_weights, I, T)\n",
    "\n",
    "utility, pairings_test = online_dual_assignment(coeffs[T:], pairing_weights, I, T)\n",
    "\n",
    "print('Optimal allocations from primal')\n",
    "print(pairings_actual)\n",
    "print('Online allocations')\n",
    "print(pairings_test)\n",
    "\n",
    "print('\\nPrimal utility')\n",
    "print(up)\n",
    "print('Online utility')\n",
    "print(utility)"
   ]
  },
  {
   "cell_type": "code",
   "execution_count": 141,
   "metadata": {},
   "outputs": [
    {
     "data": {
      "text/plain": [
       "2"
      ]
     },
     "execution_count": 141,
     "metadata": {},
     "output_type": "execute_result"
    }
   ],
   "source": [
    "T"
   ]
  },
  {
   "cell_type": "code",
   "execution_count": 75,
   "metadata": {},
   "outputs": [
    {
     "data": {
      "text/plain": [
       "array([-0.80000001,  2.30000001,  2.30000001])"
      ]
     },
     "execution_count": 75,
     "metadata": {},
     "output_type": "execute_result"
    }
   ],
   "source": [
    "[0,7,4] - betas"
   ]
  },
  {
   "cell_type": "code",
   "execution_count": 21,
   "metadata": {},
   "outputs": [
    {
     "data": {
      "text/plain": [
       "1"
      ]
     },
     "execution_count": 21,
     "metadata": {},
     "output_type": "execute_result"
    }
   ],
   "source": [
    "\n",
    "\n",
    "np.argmax([0,7,4] - betas)"
   ]
  },
  {
   "cell_type": "code",
   "execution_count": 620,
   "metadata": {},
   "outputs": [
    {
     "data": {
      "text/plain": [
       "array([[0., 1., 0.],\n",
       "       [0., 0., 1.],\n",
       "       [0., 0., 0.],\n",
       "       [0., 0., 0.]])"
      ]
     },
     "execution_count": 620,
     "metadata": {},
     "output_type": "execute_result"
    }
   ],
   "source": [
    "pairings"
   ]
  },
  {
   "cell_type": "code",
   "execution_count": null,
   "metadata": {},
   "outputs": [],
   "source": []
  }
 ],
 "metadata": {
  "kernelspec": {
   "display_name": "Python 3",
   "language": "python",
   "name": "python3"
  },
  "language_info": {
   "codemirror_mode": {
    "name": "ipython",
    "version": 3
   },
   "file_extension": ".py",
   "mimetype": "text/x-python",
   "name": "python",
   "nbconvert_exporter": "python",
   "pygments_lexer": "ipython3",
   "version": "3.7.2"
  }
 },
 "nbformat": 4,
 "nbformat_minor": 2
}
