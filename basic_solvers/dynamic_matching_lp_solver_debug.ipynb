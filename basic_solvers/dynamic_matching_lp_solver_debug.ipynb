{
 "cells": [
  {
   "cell_type": "code",
   "execution_count": 3,
   "metadata": {},
   "outputs": [],
   "source": [
    "from scipy.optimize import linprog\n",
    "import numpy as np\n",
    "import pickle"
   ]
  },
  {
   "cell_type": "markdown",
   "metadata": {},
   "source": [
    "### First define some utility pairings based on a scenario"
   ]
  },
  {
   "cell_type": "code",
   "execution_count": 4,
   "metadata": {},
   "outputs": [],
   "source": [
    "def generate_utility_pairings(I,T):\n",
    "    '''Create a dummy scenario statisfying valid weight properties'''\n",
    "    impatient = np.random.rand(T,I+1)\n",
    "    patient = np.random.rand(I,I+1)\n",
    "    \n",
    "    patient[:,0] = 0\n",
    "    #make a few paris non-compatible\n",
    "    pairing_weights = np.concatenate((impatient, patient), axis=0)\n",
    "    for i in range(I+T):\n",
    "        i,j = np.random.randint(0,I+T), np.random.randint(1,I+1)\n",
    "        pairing_weights[i,j] = 0\n",
    "    \n",
    "    #make patient-patient pairings symmetric\n",
    "    pairing_weights[T:,1:] = np.maximum(pairing_weights[T:,1:], pairing_weights[T:,1:].T)\n",
    "    pairing_weights[T:,1:][np.eye(I,dtype=bool)] = 0\n",
    "    \n",
    "    return pairing_weights"
   ]
  },
  {
   "cell_type": "code",
   "execution_count": 46,
   "metadata": {},
   "outputs": [],
   "source": [
    "T = 10 #impatient agents\n",
    "I = 10 #patient agents\n",
    "\n",
    "pairing_weights = generate_utility_pairings(I,T)"
   ]
  },
  {
   "cell_type": "markdown",
   "metadata": {},
   "source": [
    "### Now define several functions to convert our problem formulation to standard matrix form"
   ]
  },
  {
   "cell_type": "code",
   "execution_count": 6,
   "metadata": {},
   "outputs": [],
   "source": [
    "def make_primal_constraint_matrix(I, T, c_len, pairing_weights):\n",
    "    constraints = np.zeros((T+I, c_len))\n",
    "    \n",
    "    for a in range(0, T):\n",
    "        constraint = np.zeros(pairing_weights.shape)\n",
    "        constraint[a, :] = 1\n",
    "        constraints[a,:] = constraint.reshape(constraint.shape[0] * constraint.shape[1])\n",
    "    \n",
    "    for B in range(0, I):\n",
    "        constraint = np.zeros(pairing_weights.shape)\n",
    "        constraint[B+T, 1:] += 1\n",
    "        constraint[:, B+1] += 1\n",
    "        constraints[B+T,:] = constraint.reshape(constraint.shape[0] * constraint.shape[1])\n",
    "    \n",
    "    return constraints\n",
    "\n",
    "def make_dual_constraint_matrix(I, T, pairing_weights):\n",
    "    constraints = np.zeros(((I+1)*T+I*I, T+I))\n",
    "    inequalities = np.zeros(((I+1)*T+I*I,1))\n",
    "    cix = 0\n",
    "    \n",
    "    #impatient constraints\n",
    "    for t in range(T):    \n",
    "        bixs = [i for i in range(T,T+I)]\n",
    "        bixs.insert(0,t)\n",
    "        \n",
    "        for ix, i in enumerate(bixs): \n",
    "            constraints[cix, t] = -1\n",
    "            constraints[cix,i] = -1\n",
    "            inequalities[cix] = -1 * pairing_weights[t, ix]\n",
    "            cix += 1\n",
    "            \n",
    "    #patient constraints\n",
    "    for i in range(I):    \n",
    "        for j in range(I):\n",
    "            constraints[cix, T+i] -= 1\n",
    "            constraints[cix, T+j] -= 1\n",
    "            inequalities[cix] = -1 * pairing_weights[T+i, j+1]\n",
    "            cix += 1\n",
    "\n",
    "    return constraints, inequalities"
   ]
  },
  {
   "cell_type": "markdown",
   "metadata": {},
   "source": [
    "### Find optimal pairings & utility based on the primal. Find optimal coefficients & utility based on the dual"
   ]
  },
  {
   "cell_type": "code",
   "execution_count": 42,
   "metadata": {},
   "outputs": [],
   "source": [
    "def calculate_primal_solns(pairing_weights, I, T):\n",
    "\n",
    "    c = -1 * pairing_weights.reshape(pairing_weights.shape[0] * pairing_weights.shape[1])\n",
    "    constraints = make_primal_constraint_matrix(I, T, len(c), pairing_weights)\n",
    "    b = np.ones((constraints.shape[0],1))\n",
    "\n",
    "    solved_program = linprog(c, constraints, b)\n",
    "    pairings = solved_program.x.reshape(pairing_weights.shape)\n",
    "    utility_p = -1 * solved_program.fun\n",
    "    \n",
    "    \n",
    "    return utility_p, pairings\n",
    "\n",
    "def calculate_dual_solns(pairing_weights, I, T):\n",
    "\n",
    "    constraints_d, inequalities_d = make_dual_constraint_matrix(I, T, pairing_weights)\n",
    "    c_d = np.ones((T+I))\n",
    "\n",
    "    solved_program = linprog(c_d, constraints_d, inequalities_d)\n",
    "    print(solved_program)\n",
    "    coefficients = solved_program.x\n",
    "    utility_d = solved_program.fun\n",
    "    \n",
    "    return utility_d, coefficients"
   ]
  },
  {
   "cell_type": "markdown",
   "metadata": {},
   "source": [
    "### Assert utility found in primal & dual are equivalent (to precision error)"
   ]
  },
  {
   "cell_type": "code",
   "execution_count": 48,
   "metadata": {},
   "outputs": [
    {
     "name": "stdout",
     "output_type": "stream",
     "text": [
      "     fun: 10.156330087345138\n",
      " message: 'Optimization terminated successfully.'\n",
      "     nit: 276\n",
      "   slack: array([0.74581022, 1.3866515 , 0.98198989, 0.99783559, 0.23111465,\n",
      "       1.14851683, 0.68870727, 0.70739428, 1.13230773, 0.73627011,\n",
      "       0.62088993, 1.06427692, 1.34217012, 0.798204  , 0.70738925,\n",
      "       1.02857139, 0.99311257, 0.20157708, 0.92388799, 0.87738848,\n",
      "       0.        , 0.1190451 , 0.        , 0.88695654, 1.10665317,\n",
      "       0.64332084, 0.        , 0.76284646, 1.25377015, 0.53928616,\n",
      "       1.1603717 , 1.4045379 , 0.45797996, 0.        , 0.62044033,\n",
      "       0.39639654, 0.8987182 , 0.47689605, 0.64787767, 0.44533333,\n",
      "       0.77142324, 0.12304224, 0.33533224, 0.68894013, 0.        ,\n",
      "       0.30322234, 0.16654868, 0.44442027, 0.        , 0.67700678,\n",
      "       0.20935279, 0.0713263 , 0.32733402, 0.10430402, 0.04333372,\n",
      "       0.        , 0.47535407, 0.09039977, 0.08990133, 0.84817897,\n",
      "       0.56944956, 0.        , 0.2603143 , 0.61063596, 0.42974148,\n",
      "       0.38114216, 0.        , 0.65777731, 0.        , 0.52175276,\n",
      "       0.84307381, 0.64609675, 1.11809258, 0.89880308, 0.22661248,\n",
      "       0.77563784, 0.67137218, 0.0347803 , 0.79584587, 0.        ,\n",
      "       0.73624489, 0.        , 0.        , 0.92106895, 0.28357782,\n",
      "       0.71221479, 0.90607685, 0.56400578, 0.        , 1.05016384,\n",
      "       0.36571808, 0.44804406, 0.10418705, 0.34399617, 0.40050887,\n",
      "       0.23777444, 0.32585302, 0.12132948, 0.08486863, 0.16878608,\n",
      "       0.5862494 , 0.39666406, 0.        , 0.        , 0.37052018,\n",
      "       0.29214349, 0.        , 0.7657153 , 0.24374328, 0.02388936,\n",
      "       1.23038406, 0.23053198, 0.40372287, 0.63641776, 0.        ,\n",
      "       0.47045221, 0.1386097 , 0.79584768, 0.86695312, 0.8269181 ,\n",
      "       0.23053198, 0.        , 0.6992076 , 0.33724423, 0.        ,\n",
      "       0.53379478, 0.61745657, 0.        , 0.72083311, 0.6085762 ,\n",
      "       0.40372287, 0.6992076 , 0.        , 0.11962763, 0.4691696 ,\n",
      "       0.30461423, 0.23842554, 0.        , 0.99629023, 0.61816304,\n",
      "       0.63641776, 0.33724423, 0.11962763, 0.        , 0.03939373,\n",
      "       0.49059759, 0.49300192, 0.30533777, 0.2741085 , 0.22308938,\n",
      "       0.        , 0.        , 0.4691696 , 0.03939373, 0.56267667,\n",
      "       0.10228177, 0.34391784, 0.50197359, 0.36963175, 0.        ,\n",
      "       0.47045221, 0.53379478, 0.30461423, 0.49059759, 0.10228177,\n",
      "       0.        , 0.4585656 , 0.43805962, 0.        , 0.53551407,\n",
      "       0.1386097 , 0.61745657, 0.23842554, 0.49300192, 0.34391784,\n",
      "       0.4585656 , 0.        , 0.37598935, 0.46419756, 0.        ,\n",
      "       0.79584768, 0.        , 0.        , 0.30533777, 0.50197359,\n",
      "       0.43805962, 0.37598935, 0.60898527, 0.15784509, 0.63116459,\n",
      "       0.86695312, 0.72083311, 0.99629023, 0.2741085 , 0.36963175,\n",
      "       0.        , 0.46419756, 0.15784509, 0.        , 0.43054643,\n",
      "       0.8269181 , 0.6085762 , 0.61816304, 0.22308938, 0.        ,\n",
      "       0.53551407, 0.        , 0.63116459, 0.43054643, 0.        ])\n",
      "  status: 0\n",
      " success: True\n",
      "       x: array([0.46447188, 0.40959353, 0.9425939 , 0.62354767, 0.39566845,\n",
      "       0.40607262, 0.61637837, 0.44413285, 0.63286382, 0.46122267,\n",
      "       0.61519203, 0.53213846, 0.67108506, 0.44405759, 0.28133833,\n",
      "       0.5142857 , 0.49655629, 0.30449263, 0.461944  , 0.43869424])\n",
      "10.156330087345138\n",
      "10.156330087345138\n"
     ]
    }
   ],
   "source": [
    "utility_p, pairings = calculate_primal_solns(pairing_weights, I, T)\n",
    "utility_d, coeffs = calculate_dual_solns(pairing_weights, I, T)\n",
    "\n",
    "print(utility_d)\n",
    "print(utility_p)\n",
    "\n",
    "# assert round(utility_d, 10) == round(utility_p, 10), \"Dual and Primal solutions are not equivilant\""
   ]
  },
  {
   "cell_type": "code",
   "execution_count": 41,
   "metadata": {},
   "outputs": [
    {
     "name": "stdout",
     "output_type": "stream",
     "text": [
      "925.8039793675945\n",
      "43.66967465020719\n"
     ]
    }
   ],
   "source": [
    "print(utility_d)\n",
    "print(utility_p)"
   ]
  },
  {
   "cell_type": "markdown",
   "metadata": {},
   "source": [
    "# Testing\n",
    "- Iterate over different patient/impatient scenarios and validate primal & dual produce same utility"
   ]
  },
  {
   "cell_type": "code",
   "execution_count": 121,
   "metadata": {},
   "outputs": [],
   "source": [
    "for R in range(1,10):\n",
    "    for S in range(1,10):\n",
    "        pairing_weights = generate_utility_pairings(R,S)\n",
    "        utility_1, _ = calculate_primal_solns(pairing_weights, R, S)\n",
    "        utility_2, _ = calculate_dual_solns(pairing_weights, R, S)\n",
    "        assert round(utility_1, 10) == round(utility_2, 10), \"Dual and Primal solutions are not equivilant\""
   ]
  },
  {
   "cell_type": "markdown",
   "metadata": {},
   "source": [
    "### Implement online assignment algorithm and check solution"
   ]
  },
  {
   "cell_type": "code",
   "execution_count": 98,
   "metadata": {},
   "outputs": [],
   "source": [
    "def check_opt_io(shaddow_pairings, j, weights, betas):\n",
    "    for ix,x in enumerate(shaddow_pairings):\n",
    "        for iy,y in enumerate(shaddow_pairings):\n",
    "            if x==y and x != 0 and x != -1:\n",
    "                \n",
    "                print(weights[ix] - betas[j] - betas[ix] == 0)\n",
    "                print(weights[iy] - betas[j] - betas[iy] ==0)\n",
    "                return\n",
    "\n",
    "def online_dual_assignment(betas, pairing_weights, I, T):\n",
    "    betas = np.insert(betas, 0,0)\n",
    "    II = [i for i in range(I+1)]\n",
    "    II_membership = np.ones((I+1), np.bool)\n",
    "    matches = []\n",
    "    \n",
    "    for t in range(0,T):\n",
    "        shaddow_pairings = pairing_weights[t, :] - betas\n",
    "        shaddow_pairings[~II_membership] = -1\n",
    "        io = np.argmax(shaddow_pairings)\n",
    "        if io == 0:\n",
    "            matches.append((t,0))\n",
    "        else:\n",
    "            matches.append((t, io))\n",
    "            II_membership[io] = 0\n",
    "            \n",
    "    for j in range(1,I+1):\n",
    "        #recently added -1 index. Carefully walk through to verify correct\n",
    "        if II_membership[j-1]:\n",
    "            II_membership_tmp = II_membership.copy()\n",
    "            II_membership_tmp[j-1] = 0\n",
    "\n",
    "            shaddow_pairings = pairing_weights[T+j-1, :] - betas\n",
    "            shaddow_pairings[~II_membership_tmp] = -1\n",
    "            \n",
    "            \n",
    "            check_opt_io(shaddow_pairings, j, pairing_weights[T+j-1, :], betas)\n",
    "            io = np.argmax(shaddow_pairings)\n",
    "\n",
    "            if io != 0:\n",
    "                matches.append((T+j-1, io))\n",
    "                II_membership[io] = 0\n",
    "         \n",
    "    pairings = np.zeros(pairing_weights.shape)\n",
    "    utility = 0\n",
    "    for match in matches:\n",
    "        pairings[match[0], match[1]] = 1\n",
    "        utility += pairing_weights[match[0], match[1]]\n",
    "                \n",
    "    return utility, pairings\n",
    "    "
   ]
  },
  {
   "cell_type": "code",
   "execution_count": 101,
   "metadata": {},
   "outputs": [],
   "source": [
    "T = 4 #impatient agents\n",
    "I = 4 #patient agents\n",
    "\n",
    "\n",
    "pairing_weights = generate_utility_pairings(I,T)"
   ]
  },
  {
   "cell_type": "code",
   "execution_count": 81,
   "metadata": {},
   "outputs": [
    {
     "data": {
      "text/plain": [
       "array([[0.7042036 , 0.06201134, 0.18783841, 0.87904628, 0.17920747],\n",
       "       [0.02106154, 0.99730342, 0.3402794 , 0.78420886, 0.        ],\n",
       "       [0.81110563, 0.60102404, 0.        , 0.16127142, 0.37948676],\n",
       "       [0.00509338, 0.        , 0.12046811, 0.80514355, 0.37716493],\n",
       "       [0.        , 0.        , 0.        , 0.26798454, 0.77234224],\n",
       "       [0.        , 0.        , 0.        , 0.37445721, 0.67586622],\n",
       "       [0.        , 0.26798454, 0.37445721, 0.        , 0.66750402],\n",
       "       [0.        , 0.77234224, 0.67586622, 0.66750402, 0.        ]])"
      ]
     },
     "execution_count": 81,
     "metadata": {},
     "output_type": "execute_result"
    }
   ],
   "source": [
    "pairing_weights"
   ]
  },
  {
   "cell_type": "code",
   "execution_count": 102,
   "metadata": {},
   "outputs": [
    {
     "name": "stdout",
     "output_type": "stream",
     "text": [
      "Index:  4\n",
      "J:  1\n",
      "[ True  True False  True  True]\n",
      "[[0.42670346 0.66743212 0.         0.02540482 0.52994287]\n",
      " [0.34014008 0.         0.78154605 0.51049536 0.        ]\n",
      " [0.15546209 0.52959146 0.46950067 0.5113193  0.        ]\n",
      " [0.90259212 0.         0.84167531 0.         0.07603772]\n",
      " [0.         0.         0.72491089 0.97144976 0.42717077]\n",
      " [0.         0.72491089 0.         0.75611977 0.32071576]\n",
      " [0.         0.97144976 0.75611977 0.         0.47585698]\n",
      " [0.         0.42717077 0.32071576 0.47585698 0.        ]]\n",
      "Weights:\n",
      "[0.         0.         0.72491089 0.97144976 0.42717077]\n",
      "Weights - betas\n",
      "[-1.         -0.52936858 -1.          0.52936858  0.32393135]\n",
      "False\n",
      "False\n",
      "+++++++++\n",
      "Index:  5\n",
      "J:  2\n",
      "[ True  True False False  True]\n",
      "[[0.42670346 0.66743212 0.         0.02540482 0.52994287]\n",
      " [0.34014008 0.         0.78154605 0.51049536 0.        ]\n",
      " [0.15546209 0.52959146 0.46950067 0.5113193  0.        ]\n",
      " [0.90259212 0.         0.84167531 0.         0.07603772]\n",
      " [0.         0.         0.72491089 0.97144976 0.42717077]\n",
      " [0.         0.72491089 0.         0.75611977 0.32071576]\n",
      " [0.         0.97144976 0.75611977 0.         0.47585698]\n",
      " [0.         0.42717077 0.32071576 0.47585698 0.        ]]\n",
      "Weights:\n",
      "[0.         0.72491089 0.         0.75611977 0.32071576]\n",
      "Weights - betas\n",
      "[ 0.         -1.         -1.         -1.          0.21747634]\n",
      "False\n",
      "False\n",
      "+++++++++\n",
      "Index:  6\n",
      "J:  3\n",
      "[ True  True False False False]\n",
      "Index:  7\n",
      "J:  4\n",
      "[ True  True False False False]\n",
      "Optimal allocations from primal\n",
      "[[0. 0. 0. 0. 1.]\n",
      " [0. 0. 1. 0. 0.]\n",
      " [1. 0. 0. 0. 0.]\n",
      " [1. 0. 0. 0. 0.]\n",
      " [0. 0. 0. 1. 0.]\n",
      " [0. 0. 0. 0. 0.]\n",
      " [0. 0. 0. 0. 0.]\n",
      " [0. 0. 0. 0. 0.]]\n",
      "Online allocations\n",
      "[[1. 0. 0. 0. 0.]\n",
      " [0. 0. 1. 0. 0.]\n",
      " [1. 0. 0. 0. 0.]\n",
      " [1. 0. 0. 0. 0.]\n",
      " [0. 0. 0. 1. 0.]\n",
      " [0. 0. 0. 0. 1.]\n",
      " [0. 0. 0. 0. 0.]\n",
      " [0. 0. 0. 0. 0.]]\n",
      "\n",
      "Base utility\n",
      "3.34099288605964\n",
      "3.34099288605964\n",
      "Online utility\n",
      "3.5584692309658177\n",
      "0.0\n"
     ]
    }
   ],
   "source": [
    "#Get knowlege of optimal Bis\n",
    "up, pairings_actual = calculate_primal_solns(pairing_weights, I, T)\n",
    "ud, coeffs = calculate_dual_solns(pairing_weights, I, T)\n",
    "\n",
    "utility, pairings_test = online_dual_assignment(coeffs[T:], pairing_weights, I, T)\n",
    "\n",
    "print('Optimal allocations from primal')\n",
    "print(pairings_actual)\n",
    "print('Online allocations')\n",
    "print(pairings_test)\n",
    "\n",
    "print('\\nBase utility')\n",
    "print(up)\n",
    "print(ud)\n",
    "print('Online utility')\n",
    "print(utility)\n",
    "\n",
    "print(up - ud)"
   ]
  }
 ],
 "metadata": {
  "kernelspec": {
   "display_name": "Python 3",
   "language": "python",
   "name": "python3"
  },
  "language_info": {
   "codemirror_mode": {
    "name": "ipython",
    "version": 3
   },
   "file_extension": ".py",
   "mimetype": "text/x-python",
   "name": "python",
   "nbconvert_exporter": "python",
   "pygments_lexer": "ipython3",
   "version": "3.7.2"
  }
 },
 "nbformat": 4,
 "nbformat_minor": 2
}
