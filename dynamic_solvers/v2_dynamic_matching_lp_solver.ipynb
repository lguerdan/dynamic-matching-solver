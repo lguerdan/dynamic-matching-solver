{
 "cells": [
  {
   "cell_type": "code",
   "execution_count": 2,
   "metadata": {},
   "outputs": [],
   "source": [
    "from scipy.optimize import linprog\n",
    "import numpy as np\n",
    "import pickle\n",
    "import pandas as pd\n",
    "import matplotlib.pyplot as plt\n",
    "\n",
    "from gurobi import *"
   ]
  },
  {
   "cell_type": "markdown",
   "metadata": {},
   "source": [
    "## Define situation variables"
   ]
  },
  {
   "cell_type": "code",
   "execution_count": 3,
   "metadata": {},
   "outputs": [],
   "source": [
    "I = 2 # number of resources\n",
    "k = 2 * np.ones(I,np.int) # resource utilization times\n",
    "J = 2 # number of agents\n",
    "d = 2 # wait time for each agent\n",
    "T = J+d # total time for matches to occur"
   ]
  },
  {
   "cell_type": "markdown",
   "metadata": {},
   "source": [
    "## Make primal constraint matrix"
   ]
  },
  {
   "cell_type": "code",
   "execution_count": 11,
   "metadata": {},
   "outputs": [],
   "source": [
    "def in_constraint(v):\n",
    "    if v[1]:\n",
    "        return True\n",
    "    else:\n",
    "        return False\n",
    "\n",
    "def print_tableau(matches):\n",
    "    for i in range(matches.shape[2]):\n",
    "        print(matches[:,:,i])\n",
    "        \n",
    "def create_tableau(I,J,T):\n",
    "    valid_matches = np.zeros((I,J,T), np.int)\n",
    "\n",
    "    #valid allocations based on arival time\n",
    "    for t in range(T):\n",
    "        valid_matches[:,max(0,t-d):min(t+1,J),t] = 1\n",
    "\n",
    "    #make weights uniform across time\n",
    "    pairing_weights = np.random.random(valid_matches.shape) \n",
    "    for t in range(1,pairing_weights.shape[2]):\n",
    "        pairing_weights[:,:,t] = pairing_weights[:,:,0]\n",
    "    \n",
    "    pairing_weights[valid_matches == 0] = 0\n",
    "\n",
    "    return valid_matches, pairing_weights\n",
    "    "
   ]
  },
  {
   "cell_type": "code",
   "execution_count": 323,
   "metadata": {},
   "outputs": [],
   "source": [
    "def primal_constraint_matrix(valid_matches, I,J,T):\n",
    "\n",
    "    constraints = np.zeros((valid_matches.sum()+J,valid_matches.size))\n",
    "    cix = 0\n",
    "    #constraints limiting to one resource allocation in the time interval\n",
    "    for i in range(I):\n",
    "        for t in range(T):\n",
    "            constraint = np.zeros((I,J,T), np.int)\n",
    "            endix = min(t+k[i],T)\n",
    "            constraint[i,:,t:endix] = 1 \n",
    "            constraints[cix,:] = constraint.reshape((1, constraint.shape[0] * constraint.shape[1] * constraint.shape[2]))\n",
    "            cix += 1\n",
    "\n",
    "    #constraints limiting each agent to only match once            \n",
    "    for j in range(J):\n",
    "        constraint = np.zeros((I,J,T), np.int)\n",
    "        valid_mask = constraint.copy()\n",
    "        valid_mask[:,j,:] = 1\n",
    "\n",
    "        constraint[(valid_matches == 1) & (valid_mask ==1)] = 1\n",
    "        constraints[cix+j,:] = constraint.reshape((1, constraint.shape[0] * constraint.shape[1] * constraint.shape[2]))\n",
    "    \n",
    "    return constraints"
   ]
  },
  {
   "cell_type": "markdown",
   "metadata": {},
   "source": [
    "### Dual constraint matrix\n",
    "\n",
    "To make matrix: \n",
    "- Create a constraint map to see which alphas/betas apply at a given location in the primal. Each valid location will correspond to a constraint in the dual, and the variables == 1 will be those in the `cmap[i][j][t]`"
   ]
  },
  {
   "cell_type": "code",
   "execution_count": 35,
   "metadata": {},
   "outputs": [],
   "source": [
    "constraint_map = np.zeros((I,J,T,T*I+J), np.int)\n",
    "cix = 0\n",
    "\n",
    "#constraints limiting to one resource allocation in the time interval\n",
    "for i in range(I):\n",
    "    for t in range(T):\n",
    "        constraint = np.zeros((I,J,T), np.int)\n",
    "        endix = min(t+k[i],T)\n",
    "        constraint[i,:,t:endix] = 1 \n",
    "        constraint_map[:,:,:,cix] = constraint.copy()\n",
    "        cix += 1\n",
    "\n",
    "#constraints limiting each agent to only match once            \n",
    "for j in range(J):\n",
    "    constraint = np.zeros((I,J,T), np.int)\n",
    "    valid_mask = constraint.copy()\n",
    "    valid_mask[:,j,:] = 1\n",
    "    constraint[(valid_matches == 1) & (valid_mask ==1)] = 1\n",
    "    constraint_map[:,:,:,cix] = constraint.copy()\n",
    "          "
   ]
  },
  {
   "cell_type": "code",
   "execution_count": 43,
   "metadata": {},
   "outputs": [
    {
     "data": {
      "text/plain": [
       "12"
      ]
     },
     "execution_count": 43,
     "metadata": {},
     "output_type": "execute_result"
    }
   ],
   "source": [
    "constraint_map.shape\n",
    "valid_matches.sum()"
   ]
  },
  {
   "cell_type": "code",
   "execution_count": 41,
   "metadata": {},
   "outputs": [
    {
     "data": {
      "text/plain": [
       "(10,)"
      ]
     },
     "execution_count": 41,
     "metadata": {},
     "output_type": "execute_result"
    }
   ],
   "source": [
    "constraint_map[0,0,0,:].shape"
   ]
  },
  {
   "cell_type": "code",
   "execution_count": 38,
   "metadata": {},
   "outputs": [],
   "source": [
    "dual_constraint_matrix = np.zeros(valid_matches.sum(), constraint_map.shape[3])\n",
    "\n",
    "cix = 0\n",
    "for i in range(I):\n",
    "    for j in range(J):\n",
    "        for t in range(T):\n",
    "            if valid_matches[i][j][t]:\n",
    "                dual_constraint_matrix[cix,:] = constraint_map \n",
    "                constraint = constraint_map[i,j,t,:]\n",
    "\n"
   ]
  },
  {
   "cell_type": "code",
   "execution_count": 30,
   "metadata": {},
   "outputs": [],
   "source": [
    "cmap = []\n",
    "for i in range(I):\n",
    "    cmap.append([])\n",
    "    for j in range(J):\n",
    "        cmap[i].append([])\n",
    "        for t in range(T):\n",
    "            cmap[i][j].append([])\n",
    "\n",
    "cix = 0\n",
    "#constraints limiting to one resource allocation in the time interval\n",
    "for i in range(I):\n",
    "    for t in range(T):\n",
    "        endix = min(t+k[i],T) \n",
    "        for tp in range(t,endix):\n",
    "            for j in range(J):\n",
    "                if valid_matches[i][j][tp]:\n",
    "                    cmap[i][j][tp] = cix\n",
    "        cix += 1\n",
    "            \n",
    "\n",
    "# #constraints limiting each agent to only match once            \n",
    "# for j in range(J):\n",
    "#     constraint = np.zeros((I,J,T), np.int)\n",
    "#     valid_mask = constraint.copy()\n",
    "#     valid_mask[:,j,:] = 1\n",
    "\n",
    "#     constraint[(valid_matches == 1) & (valid_mask ==1)] = 1\n",
    "#     constraints[cix+j,:] = constraint.reshape((1, constraint.shape[0] * constraint.shape[1] * constraint.shape[2]))\n",
    "\n"
   ]
  },
  {
   "cell_type": "code",
   "execution_count": 23,
   "metadata": {},
   "outputs": [
    {
     "data": {
      "text/plain": [
       "array([[[[1, 0, 0, 0, 0, 0, 0, 0, 0, 0],\n",
       "         [1, 1, 0, 0, 0, 0, 0, 0, 0, 0],\n",
       "         [0, 1, 1, 0, 0, 0, 0, 0, 0, 0],\n",
       "         [0, 0, 1, 1, 0, 0, 0, 0, 0, 0]],\n",
       "\n",
       "        [[1, 0, 0, 0, 0, 0, 0, 0, 0, 0],\n",
       "         [1, 1, 0, 0, 0, 0, 0, 0, 1, 0],\n",
       "         [0, 1, 1, 0, 0, 0, 0, 0, 1, 0],\n",
       "         [0, 0, 1, 1, 0, 0, 0, 0, 1, 0]]],\n",
       "\n",
       "\n",
       "       [[[0, 0, 0, 0, 1, 0, 0, 0, 0, 0],\n",
       "         [0, 0, 0, 0, 1, 1, 0, 0, 0, 0],\n",
       "         [0, 0, 0, 0, 0, 1, 1, 0, 0, 0],\n",
       "         [0, 0, 0, 0, 0, 0, 1, 1, 0, 0]],\n",
       "\n",
       "        [[0, 0, 0, 0, 1, 0, 0, 0, 0, 0],\n",
       "         [0, 0, 0, 0, 1, 1, 0, 0, 1, 0],\n",
       "         [0, 0, 0, 0, 0, 1, 1, 0, 1, 0],\n",
       "         [0, 0, 0, 0, 0, 0, 1, 1, 1, 0]]]])"
      ]
     },
     "execution_count": 23,
     "metadata": {},
     "output_type": "execute_result"
    }
   ],
   "source": [
    "constraint_map"
   ]
  },
  {
   "cell_type": "code",
   "execution_count": 13,
   "metadata": {},
   "outputs": [],
   "source": [
    "valid_matches, pairing_weights = create_tableau(I,J,T)\n"
   ]
  },
  {
   "cell_type": "code",
   "execution_count": 372,
   "metadata": {},
   "outputs": [],
   "source": [
    "def primal_solutions(pairing_weights, I, J, T):\n",
    "    m = Model(\"dynamicmatch_primal\")\n",
    "    m.modelSense = GRB.MAXIMIZE\n",
    "    m.setParam( 'OutputFlag', True )\n",
    "\n",
    "    weights = pairing_weights.reshape(pairing_weights.shape[0] * pairing_weights.shape[1] * pairing_weights.shape[2])\n",
    "    c = -1 * pairing_weights.reshape(pairing_weights.shape[0] * pairing_weights.shape[1] * pairing_weights.shape[2])\n",
    "    constraints = primal_constraint_matrix(valid_matches, I,J,T)\n",
    "\n",
    "\n",
    "    keys = range(constraints.shape[1])\n",
    "    variables = m.addVars(keys,\n",
    "                    vtype=GRB.CONTINUOUS,\n",
    "                     obj=weights,\n",
    "                     name=\"primal\",\n",
    "                     lb=0)\n",
    "\n",
    "    for constraint in constraints:\n",
    "        m.addConstr(sum(variables[o]*c for o,c in filter(in_constraint, zip(variables,constraint))) <= 1)\n",
    "\n",
    "\n",
    "\n",
    "    m.optimize()\n",
    "    allocations = np.array([variables[var].X for var in variables]).reshape(pairing_weights.shape)\n",
    "    # m.write('constraint.lp')\n",
    "\n",
    "    return m.objVal, allocations\n"
   ]
  },
  {
   "cell_type": "code",
   "execution_count": 373,
   "metadata": {},
   "outputs": [
    {
     "name": "stdout",
     "output_type": "stream",
     "text": [
      "Parameter OutputFlag unchanged\n",
      "   Value: 1  Min: 0  Max: 1  Default: 1\n",
      "Optimize a model with 3150 rows, 18125 columns and 87500 nonzeros\n",
      "Coefficient statistics:\n",
      "  Matrix range     [1e+00, 1e+00]\n",
      "  Objective range  [6e-04, 1e+00]\n",
      "  Bounds range     [0e+00, 0e+00]\n",
      "  RHS range        [1e+00, 1e+00]\n",
      "\n",
      "Concurrent LP optimizer: dual simplex and barrier\n",
      "Showing barrier log only...\n",
      "\n",
      "Presolve removed 2425 rows and 15000 columns\n",
      "Presolve time: 0.11s\n",
      "Presolved: 725 rows, 3125 columns, 18225 nonzeros\n",
      "\n",
      "Ordering time: 0.00s\n",
      "\n",
      "Barrier statistics:\n",
      " AA' NZ     : 7.900e+03\n",
      " Factor NZ  : 1.827e+04 (roughly 2 MBytes of memory)\n",
      " Factor Ops : 4.758e+05 (less than 1 second per iteration)\n",
      " Threads    : 1\n",
      "\n",
      "Barrier performed 0 iterations in 0.14 seconds\n",
      "Barrier solve interrupted - model solved by another algorithm\n",
      "\n",
      "\n",
      "Solved with dual simplex\n",
      "Solved in 433 iterations and 0.15 seconds\n",
      "Optimal objective  2.410413828e+01\n"
     ]
    }
   ],
   "source": [
    "obj, allocs = primal_solutions(pairing_weights, I, J, T)"
   ]
  },
  {
   "cell_type": "code",
   "execution_count": null,
   "metadata": {},
   "outputs": [],
   "source": []
  }
 ],
 "metadata": {
  "kernelspec": {
   "display_name": "Python 3",
   "language": "python",
   "name": "python3"
  },
  "language_info": {
   "codemirror_mode": {
    "name": "ipython",
    "version": 3
   },
   "file_extension": ".py",
   "mimetype": "text/x-python",
   "name": "python",
   "nbconvert_exporter": "python",
   "pygments_lexer": "ipython3",
   "version": "3.7.3"
  }
 },
 "nbformat": 4,
 "nbformat_minor": 2
}
